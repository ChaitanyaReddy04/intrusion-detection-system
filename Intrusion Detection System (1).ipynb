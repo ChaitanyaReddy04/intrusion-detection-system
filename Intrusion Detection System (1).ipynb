{
 "cells": [
  {
   "cell_type": "markdown",
   "metadata": {
    "id": "yyM1GU_LVs_o"
   },
   "source": [
    "# Problem Description: "
   ]
  },
  {
   "cell_type": "markdown",
   "metadata": {
    "id": "8FfLq_s2Vs_s"
   },
   "source": [
    "In the rapidly evolving landscape of cybersecurity, protecting computer networks and systems from unauthorized access, misuse, and attacks is a critical concern. Traditional security mechanisms such as firewalls and antivirus software are often insufficient in identifying sophisticated or previously unknown threats. This necessitates the development of advanced Intrusion Detection Systems (IDS) capable of monitoring network or system activities in real time and accurately distinguishing between normal and malicious behavior.\n",
    "\n",
    "The core problem is to design and implement an effective Intrusion Detection System that can:\n",
    "\n",
    "Analyze large volumes of network traffic or system logs efficiently,\n",
    "\n",
    "Accurately detect a wide range of cyber-attacks (e.g., DoS, probe, R2L, U2R),\n",
    "\n",
    "Minimize false positives and false negatives,\n",
    "\n",
    "Adapt to evolving threat patterns and zero-day attacks.\n",
    "\n",
    "The solution must leverage appropriate algorithms (e.g., machine learning, deep learning, or rule-based approaches) and be evaluated against standard datasets (such as NSL-KDD, CICIDS2017, etc.) to ensure reliability, scalability, and robustness in detecting intrusions in real-world scenarios."
   ]
  },
  {
   "cell_type": "markdown",
   "metadata": {
    "id": "X4FrO83FVs_s"
   },
   "source": [
    "### **What is an INTRUSION DETECTOR?** "
   ]
  },
  {
   "cell_type": "markdown",
   "metadata": {
    "id": "cIVh8djvVs_t"
   },
   "source": [
    "Intrusion detector is a software used to detect network intrusions. It protects a computer network from unauthorized users, including perhaps insiders."
   ]
  },
  {
   "cell_type": "markdown",
   "metadata": {
    "id": "gAJ6wYu3Vs_t"
   },
   "source": [
    "### **Dataset**"
   ]
  },
  {
   "cell_type": "markdown",
   "metadata": {
    "id": "FRVAOajGVs_t"
   },
   "source": [
    "To carry out this research, we will utilize the \"NSL-KDD\" dataset, which is a widely recognized benchmark dataset for intrusion detection. The dataset can be accessed from the following link: https://www.unb.ca/cic/datasets/nsl.html"
   ]
  },
  {
   "cell_type": "markdown",
   "metadata": {
    "id": "DcpirrSWVs_u"
   },
   "source": [
    "### **Different Categories of the Attacks:-**"
   ]
  },
  {
   "cell_type": "markdown",
   "metadata": {
    "id": "xI1ckeAdVs_u"
   },
   "source": [
    "#### **Denial-of-service(DOS) :-**\n",
    "A Denial-of-Service (DoS) attack is an attack meant to shut down a machine or network, making it inaccessible to its intended users. DoS attacks accomplish this by flooding the target with traffic, or sending it information that triggers a crash.e.g. syn flood;\n",
    "\n",
    "#### **Remote 2 Local(R2L) attack:-**\n",
    "Remote to local attack (r2l) has been widely known to be launched by an attacker to gain unauthorized access to a victim machine in the entire network.\n",
    "\n",
    "#### **User to root attack (U2R) attack:-** \n",
    "This attack is usually launched for illegally obtaining the root’s privileges when legally accessing a local machine. , e.g. guessing password, various \"buffer overflow\" attacks;\n",
    "\n",
    "#### **Probing:-**\n",
    "Probing is an attack in which the hacker scans a machine or a. networking device in order to determine weaknesses or. vulnerabilities that may later be exploited so as to. compromise the system. e.g., port scanning."
   ]
  },
  {
   "cell_type": "markdown",
   "metadata": {
    "id": "lllpmuLqVs_w"
   },
   "source": [
    "# Importing necessary Libraries and importing dataset:- "
   ]
  },
  {
   "cell_type": "code",
   "execution_count": 1,
   "metadata": {
    "id": "u0_GacCJVs_w"
   },
   "outputs": [],
   "source": [
    "import pandas as pd\n",
    "import numpy as np\n",
    "\n",
    "import matplotlib.pyplot as plt\n",
    "import seaborn as sns\n",
    "import pickle\n",
    "\n",
    "from sklearn.model_selection import train_test_split\n",
    "from sklearn.feature_extraction.text import CountVectorizer"
   ]
  },
  {
   "cell_type": "code",
   "execution_count": 3,
   "metadata": {
    "id": "rpg3vHTCVs_x"
   },
   "outputs": [],
   "source": [
    "features = ['protocol_type','service','flag','src_bytes','dst_bytes','land','wrong_fragment','urgent','hot','num_failed_logins','logged_in','num_compromised','root_shell','su_attempted',\n",
    "'num_root','num_file_creations','num_shells','num_access_files','num_outbound_cmds',\n",
    "'is_host_login',\n",
    "'is_guest_login',\n",
    "'count',\n",
    "'srv_count',\n",
    "'serror_rate',\n",
    "'srv_serror_rate',\n",
    "'rerror_rate',\n",
    "'srv_rerror_rate',\n",
    "'same_srv_rate',\n",
    "'diff_srv_rate',\n",
    "'srv_diff_host_rate',\n",
    "'dst_host_count',\n",
    "'dst_host_srv_count',\n",
    "'dst_host_same_srv_rate',\n",
    "'dst_host_diff_srv_rate',\n",
    "'dst_host_same_src_port_rate',\n",
    "'dst_host_srv_diff_host_rate',\n",
    "'dst_host_serror_rate',\n",
    "'dst_host_srv_serror_rate',\n",
    "'dst_host_rerror_rate',\n",
    "'dst_host_srv_rerror_rate',\n",
    "'intrusion_type','duration']"
   ]
  },
  {
   "cell_type": "code",
   "execution_count": 5,
   "metadata": {
    "colab": {
     "base_uri": "https://localhost:8080/",
     "height": 1000
    },
    "id": "fYD-yddSVs_x",
    "outputId": "8980baaa-7691-403f-f846-f328398d3fa1"
   },
   "outputs": [],
   "source": [
    "data = pd.read_csv('KDDTest+.txt', names=features, header=None)\n"
   ]
  },
  {
   "cell_type": "markdown",
   "metadata": {},
   "source": [
    "# Preview the DataSet:-"
   ]
  },
  {
   "cell_type": "code",
   "execution_count": 8,
   "metadata": {},
   "outputs": [
    {
     "data": {
      "text/html": [
       "<div>\n",
       "<style scoped>\n",
       "    .dataframe tbody tr th:only-of-type {\n",
       "        vertical-align: middle;\n",
       "    }\n",
       "\n",
       "    .dataframe tbody tr th {\n",
       "        vertical-align: top;\n",
       "    }\n",
       "\n",
       "    .dataframe thead th {\n",
       "        text-align: right;\n",
       "    }\n",
       "</style>\n",
       "<table border=\"1\" class=\"dataframe\">\n",
       "  <thead>\n",
       "    <tr style=\"text-align: right;\">\n",
       "      <th></th>\n",
       "      <th>protocol_type</th>\n",
       "      <th>service</th>\n",
       "      <th>flag</th>\n",
       "      <th>src_bytes</th>\n",
       "      <th>dst_bytes</th>\n",
       "      <th>land</th>\n",
       "      <th>wrong_fragment</th>\n",
       "      <th>urgent</th>\n",
       "      <th>hot</th>\n",
       "      <th>num_failed_logins</th>\n",
       "      <th>...</th>\n",
       "      <th>dst_host_same_srv_rate</th>\n",
       "      <th>dst_host_diff_srv_rate</th>\n",
       "      <th>dst_host_same_src_port_rate</th>\n",
       "      <th>dst_host_srv_diff_host_rate</th>\n",
       "      <th>dst_host_serror_rate</th>\n",
       "      <th>dst_host_srv_serror_rate</th>\n",
       "      <th>dst_host_rerror_rate</th>\n",
       "      <th>dst_host_srv_rerror_rate</th>\n",
       "      <th>intrusion_type</th>\n",
       "      <th>duration</th>\n",
       "    </tr>\n",
       "  </thead>\n",
       "  <tbody>\n",
       "    <tr>\n",
       "      <th>0</th>\n",
       "      <td>tcp</td>\n",
       "      <td>private</td>\n",
       "      <td>REJ</td>\n",
       "      <td>0</td>\n",
       "      <td>0</td>\n",
       "      <td>0</td>\n",
       "      <td>0</td>\n",
       "      <td>0</td>\n",
       "      <td>0</td>\n",
       "      <td>0</td>\n",
       "      <td>...</td>\n",
       "      <td>0.04</td>\n",
       "      <td>0.06</td>\n",
       "      <td>0.00</td>\n",
       "      <td>0.00</td>\n",
       "      <td>0.0</td>\n",
       "      <td>0.0</td>\n",
       "      <td>1.00</td>\n",
       "      <td>1.00</td>\n",
       "      <td>neptune</td>\n",
       "      <td>21</td>\n",
       "    </tr>\n",
       "    <tr>\n",
       "      <th>0</th>\n",
       "      <td>tcp</td>\n",
       "      <td>private</td>\n",
       "      <td>REJ</td>\n",
       "      <td>0</td>\n",
       "      <td>0</td>\n",
       "      <td>0</td>\n",
       "      <td>0</td>\n",
       "      <td>0</td>\n",
       "      <td>0</td>\n",
       "      <td>0</td>\n",
       "      <td>...</td>\n",
       "      <td>0.00</td>\n",
       "      <td>0.06</td>\n",
       "      <td>0.00</td>\n",
       "      <td>0.00</td>\n",
       "      <td>0.0</td>\n",
       "      <td>0.0</td>\n",
       "      <td>1.00</td>\n",
       "      <td>1.00</td>\n",
       "      <td>neptune</td>\n",
       "      <td>21</td>\n",
       "    </tr>\n",
       "    <tr>\n",
       "      <th>2</th>\n",
       "      <td>tcp</td>\n",
       "      <td>ftp_data</td>\n",
       "      <td>SF</td>\n",
       "      <td>12983</td>\n",
       "      <td>0</td>\n",
       "      <td>0</td>\n",
       "      <td>0</td>\n",
       "      <td>0</td>\n",
       "      <td>0</td>\n",
       "      <td>0</td>\n",
       "      <td>...</td>\n",
       "      <td>0.61</td>\n",
       "      <td>0.04</td>\n",
       "      <td>0.61</td>\n",
       "      <td>0.02</td>\n",
       "      <td>0.0</td>\n",
       "      <td>0.0</td>\n",
       "      <td>0.00</td>\n",
       "      <td>0.00</td>\n",
       "      <td>normal</td>\n",
       "      <td>21</td>\n",
       "    </tr>\n",
       "    <tr>\n",
       "      <th>0</th>\n",
       "      <td>icmp</td>\n",
       "      <td>eco_i</td>\n",
       "      <td>SF</td>\n",
       "      <td>20</td>\n",
       "      <td>0</td>\n",
       "      <td>0</td>\n",
       "      <td>0</td>\n",
       "      <td>0</td>\n",
       "      <td>0</td>\n",
       "      <td>0</td>\n",
       "      <td>...</td>\n",
       "      <td>1.00</td>\n",
       "      <td>0.00</td>\n",
       "      <td>1.00</td>\n",
       "      <td>0.28</td>\n",
       "      <td>0.0</td>\n",
       "      <td>0.0</td>\n",
       "      <td>0.00</td>\n",
       "      <td>0.00</td>\n",
       "      <td>saint</td>\n",
       "      <td>15</td>\n",
       "    </tr>\n",
       "    <tr>\n",
       "      <th>1</th>\n",
       "      <td>tcp</td>\n",
       "      <td>telnet</td>\n",
       "      <td>RSTO</td>\n",
       "      <td>0</td>\n",
       "      <td>15</td>\n",
       "      <td>0</td>\n",
       "      <td>0</td>\n",
       "      <td>0</td>\n",
       "      <td>0</td>\n",
       "      <td>0</td>\n",
       "      <td>...</td>\n",
       "      <td>0.31</td>\n",
       "      <td>0.17</td>\n",
       "      <td>0.03</td>\n",
       "      <td>0.02</td>\n",
       "      <td>0.0</td>\n",
       "      <td>0.0</td>\n",
       "      <td>0.83</td>\n",
       "      <td>0.71</td>\n",
       "      <td>mscan</td>\n",
       "      <td>11</td>\n",
       "    </tr>\n",
       "  </tbody>\n",
       "</table>\n",
       "<p>5 rows × 42 columns</p>\n",
       "</div>"
      ],
      "text/plain": [
       "  protocol_type   service  flag  src_bytes  dst_bytes  land  wrong_fragment  \\\n",
       "0           tcp   private   REJ          0          0     0               0   \n",
       "0           tcp   private   REJ          0          0     0               0   \n",
       "2           tcp  ftp_data    SF      12983          0     0               0   \n",
       "0          icmp     eco_i    SF         20          0     0               0   \n",
       "1           tcp    telnet  RSTO          0         15     0               0   \n",
       "\n",
       "   urgent  hot  num_failed_logins  ...  dst_host_same_srv_rate  \\\n",
       "0       0    0                  0  ...                    0.04   \n",
       "0       0    0                  0  ...                    0.00   \n",
       "2       0    0                  0  ...                    0.61   \n",
       "0       0    0                  0  ...                    1.00   \n",
       "1       0    0                  0  ...                    0.31   \n",
       "\n",
       "   dst_host_diff_srv_rate  dst_host_same_src_port_rate  \\\n",
       "0                    0.06                         0.00   \n",
       "0                    0.06                         0.00   \n",
       "2                    0.04                         0.61   \n",
       "0                    0.00                         1.00   \n",
       "1                    0.17                         0.03   \n",
       "\n",
       "   dst_host_srv_diff_host_rate  dst_host_serror_rate  \\\n",
       "0                         0.00                   0.0   \n",
       "0                         0.00                   0.0   \n",
       "2                         0.02                   0.0   \n",
       "0                         0.28                   0.0   \n",
       "1                         0.02                   0.0   \n",
       "\n",
       "   dst_host_srv_serror_rate  dst_host_rerror_rate  dst_host_srv_rerror_rate  \\\n",
       "0                       0.0                  1.00                      1.00   \n",
       "0                       0.0                  1.00                      1.00   \n",
       "2                       0.0                  0.00                      0.00   \n",
       "0                       0.0                  0.00                      0.00   \n",
       "1                       0.0                  0.83                      0.71   \n",
       "\n",
       "   intrusion_type  duration  \n",
       "0         neptune        21  \n",
       "0         neptune        21  \n",
       "2          normal        21  \n",
       "0           saint        15  \n",
       "1           mscan        11  \n",
       "\n",
       "[5 rows x 42 columns]"
      ]
     },
     "execution_count": 8,
     "metadata": {},
     "output_type": "execute_result"
    }
   ],
   "source": [
    "data.head()"
   ]
  },
  {
   "cell_type": "code",
   "execution_count": 10,
   "metadata": {
    "colab": {
     "base_uri": "https://localhost:8080/"
    },
    "id": "Bmt0LFHFLiWH",
    "outputId": "96faa92d-45a1-4727-f32c-21e9b15be1dc"
   },
   "outputs": [
    {
     "name": "stdout",
     "output_type": "stream",
     "text": [
      "<class 'pandas.core.frame.DataFrame'>\n",
      "Index: 22544 entries, 0 to 0\n",
      "Data columns (total 42 columns):\n",
      " #   Column                       Non-Null Count  Dtype  \n",
      "---  ------                       --------------  -----  \n",
      " 0   protocol_type                22544 non-null  object \n",
      " 1   service                      22544 non-null  object \n",
      " 2   flag                         22544 non-null  object \n",
      " 3   src_bytes                    22544 non-null  int64  \n",
      " 4   dst_bytes                    22544 non-null  int64  \n",
      " 5   land                         22544 non-null  int64  \n",
      " 6   wrong_fragment               22544 non-null  int64  \n",
      " 7   urgent                       22544 non-null  int64  \n",
      " 8   hot                          22544 non-null  int64  \n",
      " 9   num_failed_logins            22544 non-null  int64  \n",
      " 10  logged_in                    22544 non-null  int64  \n",
      " 11  num_compromised              22544 non-null  int64  \n",
      " 12  root_shell                   22544 non-null  int64  \n",
      " 13  su_attempted                 22544 non-null  int64  \n",
      " 14  num_root                     22544 non-null  int64  \n",
      " 15  num_file_creations           22544 non-null  int64  \n",
      " 16  num_shells                   22544 non-null  int64  \n",
      " 17  num_access_files             22544 non-null  int64  \n",
      " 18  num_outbound_cmds            22544 non-null  int64  \n",
      " 19  is_host_login                22544 non-null  int64  \n",
      " 20  is_guest_login               22544 non-null  int64  \n",
      " 21  count                        22544 non-null  int64  \n",
      " 22  srv_count                    22544 non-null  int64  \n",
      " 23  serror_rate                  22544 non-null  float64\n",
      " 24  srv_serror_rate              22544 non-null  float64\n",
      " 25  rerror_rate                  22544 non-null  float64\n",
      " 26  srv_rerror_rate              22544 non-null  float64\n",
      " 27  same_srv_rate                22544 non-null  float64\n",
      " 28  diff_srv_rate                22544 non-null  float64\n",
      " 29  srv_diff_host_rate           22544 non-null  float64\n",
      " 30  dst_host_count               22544 non-null  int64  \n",
      " 31  dst_host_srv_count           22544 non-null  int64  \n",
      " 32  dst_host_same_srv_rate       22544 non-null  float64\n",
      " 33  dst_host_diff_srv_rate       22544 non-null  float64\n",
      " 34  dst_host_same_src_port_rate  22544 non-null  float64\n",
      " 35  dst_host_srv_diff_host_rate  22544 non-null  float64\n",
      " 36  dst_host_serror_rate         22544 non-null  float64\n",
      " 37  dst_host_srv_serror_rate     22544 non-null  float64\n",
      " 38  dst_host_rerror_rate         22544 non-null  float64\n",
      " 39  dst_host_srv_rerror_rate     22544 non-null  float64\n",
      " 40  intrusion_type               22544 non-null  object \n",
      " 41  duration                     22544 non-null  int64  \n",
      "dtypes: float64(15), int64(23), object(4)\n",
      "memory usage: 7.4+ MB\n"
     ]
    }
   ],
   "source": [
    "data.info()"
   ]
  },
  {
   "cell_type": "code",
   "execution_count": 12,
   "metadata": {
    "colab": {
     "base_uri": "https://localhost:8080/",
     "height": 349
    },
    "id": "Nm-kUEczLStq",
    "outputId": "afcd75fe-f965-42f7-c0a7-395d79026071"
   },
   "outputs": [
    {
     "data": {
      "text/html": [
       "<div>\n",
       "<style scoped>\n",
       "    .dataframe tbody tr th:only-of-type {\n",
       "        vertical-align: middle;\n",
       "    }\n",
       "\n",
       "    .dataframe tbody tr th {\n",
       "        vertical-align: top;\n",
       "    }\n",
       "\n",
       "    .dataframe thead th {\n",
       "        text-align: right;\n",
       "    }\n",
       "</style>\n",
       "<table border=\"1\" class=\"dataframe\">\n",
       "  <thead>\n",
       "    <tr style=\"text-align: right;\">\n",
       "      <th></th>\n",
       "      <th>src_bytes</th>\n",
       "      <th>dst_bytes</th>\n",
       "      <th>land</th>\n",
       "      <th>wrong_fragment</th>\n",
       "      <th>urgent</th>\n",
       "      <th>hot</th>\n",
       "      <th>num_failed_logins</th>\n",
       "      <th>logged_in</th>\n",
       "      <th>num_compromised</th>\n",
       "      <th>root_shell</th>\n",
       "      <th>...</th>\n",
       "      <th>dst_host_srv_count</th>\n",
       "      <th>dst_host_same_srv_rate</th>\n",
       "      <th>dst_host_diff_srv_rate</th>\n",
       "      <th>dst_host_same_src_port_rate</th>\n",
       "      <th>dst_host_srv_diff_host_rate</th>\n",
       "      <th>dst_host_serror_rate</th>\n",
       "      <th>dst_host_srv_serror_rate</th>\n",
       "      <th>dst_host_rerror_rate</th>\n",
       "      <th>dst_host_srv_rerror_rate</th>\n",
       "      <th>duration</th>\n",
       "    </tr>\n",
       "  </thead>\n",
       "  <tbody>\n",
       "    <tr>\n",
       "      <th>count</th>\n",
       "      <td>2.254400e+04</td>\n",
       "      <td>2.254400e+04</td>\n",
       "      <td>22544.000000</td>\n",
       "      <td>22544.000000</td>\n",
       "      <td>22544.000000</td>\n",
       "      <td>22544.000000</td>\n",
       "      <td>22544.000000</td>\n",
       "      <td>22544.000000</td>\n",
       "      <td>22544.000000</td>\n",
       "      <td>22544.000000</td>\n",
       "      <td>...</td>\n",
       "      <td>22544.000000</td>\n",
       "      <td>22544.000000</td>\n",
       "      <td>22544.000000</td>\n",
       "      <td>22544.000000</td>\n",
       "      <td>22544.000000</td>\n",
       "      <td>22544.000000</td>\n",
       "      <td>22544.000000</td>\n",
       "      <td>22544.000000</td>\n",
       "      <td>22544.000000</td>\n",
       "      <td>22544.000000</td>\n",
       "    </tr>\n",
       "    <tr>\n",
       "      <th>mean</th>\n",
       "      <td>1.039545e+04</td>\n",
       "      <td>2.056019e+03</td>\n",
       "      <td>0.000311</td>\n",
       "      <td>0.008428</td>\n",
       "      <td>0.000710</td>\n",
       "      <td>0.105394</td>\n",
       "      <td>0.021647</td>\n",
       "      <td>0.442202</td>\n",
       "      <td>0.119899</td>\n",
       "      <td>0.002440</td>\n",
       "      <td>...</td>\n",
       "      <td>140.750532</td>\n",
       "      <td>0.608722</td>\n",
       "      <td>0.090540</td>\n",
       "      <td>0.132261</td>\n",
       "      <td>0.019638</td>\n",
       "      <td>0.097814</td>\n",
       "      <td>0.099426</td>\n",
       "      <td>0.233385</td>\n",
       "      <td>0.226683</td>\n",
       "      <td>18.017965</td>\n",
       "    </tr>\n",
       "    <tr>\n",
       "      <th>std</th>\n",
       "      <td>4.727864e+05</td>\n",
       "      <td>2.121930e+04</td>\n",
       "      <td>0.017619</td>\n",
       "      <td>0.142599</td>\n",
       "      <td>0.036473</td>\n",
       "      <td>0.928428</td>\n",
       "      <td>0.150328</td>\n",
       "      <td>0.496659</td>\n",
       "      <td>7.269597</td>\n",
       "      <td>0.049334</td>\n",
       "      <td>...</td>\n",
       "      <td>111.783972</td>\n",
       "      <td>0.435688</td>\n",
       "      <td>0.220717</td>\n",
       "      <td>0.306268</td>\n",
       "      <td>0.085394</td>\n",
       "      <td>0.273139</td>\n",
       "      <td>0.281866</td>\n",
       "      <td>0.387229</td>\n",
       "      <td>0.400875</td>\n",
       "      <td>4.270361</td>\n",
       "    </tr>\n",
       "    <tr>\n",
       "      <th>min</th>\n",
       "      <td>0.000000e+00</td>\n",
       "      <td>0.000000e+00</td>\n",
       "      <td>0.000000</td>\n",
       "      <td>0.000000</td>\n",
       "      <td>0.000000</td>\n",
       "      <td>0.000000</td>\n",
       "      <td>0.000000</td>\n",
       "      <td>0.000000</td>\n",
       "      <td>0.000000</td>\n",
       "      <td>0.000000</td>\n",
       "      <td>...</td>\n",
       "      <td>0.000000</td>\n",
       "      <td>0.000000</td>\n",
       "      <td>0.000000</td>\n",
       "      <td>0.000000</td>\n",
       "      <td>0.000000</td>\n",
       "      <td>0.000000</td>\n",
       "      <td>0.000000</td>\n",
       "      <td>0.000000</td>\n",
       "      <td>0.000000</td>\n",
       "      <td>0.000000</td>\n",
       "    </tr>\n",
       "    <tr>\n",
       "      <th>25%</th>\n",
       "      <td>0.000000e+00</td>\n",
       "      <td>0.000000e+00</td>\n",
       "      <td>0.000000</td>\n",
       "      <td>0.000000</td>\n",
       "      <td>0.000000</td>\n",
       "      <td>0.000000</td>\n",
       "      <td>0.000000</td>\n",
       "      <td>0.000000</td>\n",
       "      <td>0.000000</td>\n",
       "      <td>0.000000</td>\n",
       "      <td>...</td>\n",
       "      <td>15.000000</td>\n",
       "      <td>0.070000</td>\n",
       "      <td>0.000000</td>\n",
       "      <td>0.000000</td>\n",
       "      <td>0.000000</td>\n",
       "      <td>0.000000</td>\n",
       "      <td>0.000000</td>\n",
       "      <td>0.000000</td>\n",
       "      <td>0.000000</td>\n",
       "      <td>17.000000</td>\n",
       "    </tr>\n",
       "    <tr>\n",
       "      <th>50%</th>\n",
       "      <td>5.400000e+01</td>\n",
       "      <td>4.600000e+01</td>\n",
       "      <td>0.000000</td>\n",
       "      <td>0.000000</td>\n",
       "      <td>0.000000</td>\n",
       "      <td>0.000000</td>\n",
       "      <td>0.000000</td>\n",
       "      <td>0.000000</td>\n",
       "      <td>0.000000</td>\n",
       "      <td>0.000000</td>\n",
       "      <td>...</td>\n",
       "      <td>168.000000</td>\n",
       "      <td>0.920000</td>\n",
       "      <td>0.010000</td>\n",
       "      <td>0.000000</td>\n",
       "      <td>0.000000</td>\n",
       "      <td>0.000000</td>\n",
       "      <td>0.000000</td>\n",
       "      <td>0.000000</td>\n",
       "      <td>0.000000</td>\n",
       "      <td>20.000000</td>\n",
       "    </tr>\n",
       "    <tr>\n",
       "      <th>75%</th>\n",
       "      <td>2.870000e+02</td>\n",
       "      <td>6.010000e+02</td>\n",
       "      <td>0.000000</td>\n",
       "      <td>0.000000</td>\n",
       "      <td>0.000000</td>\n",
       "      <td>0.000000</td>\n",
       "      <td>0.000000</td>\n",
       "      <td>1.000000</td>\n",
       "      <td>0.000000</td>\n",
       "      <td>0.000000</td>\n",
       "      <td>...</td>\n",
       "      <td>255.000000</td>\n",
       "      <td>1.000000</td>\n",
       "      <td>0.060000</td>\n",
       "      <td>0.030000</td>\n",
       "      <td>0.010000</td>\n",
       "      <td>0.000000</td>\n",
       "      <td>0.000000</td>\n",
       "      <td>0.360000</td>\n",
       "      <td>0.170000</td>\n",
       "      <td>21.000000</td>\n",
       "    </tr>\n",
       "    <tr>\n",
       "      <th>max</th>\n",
       "      <td>6.282565e+07</td>\n",
       "      <td>1.345927e+06</td>\n",
       "      <td>1.000000</td>\n",
       "      <td>3.000000</td>\n",
       "      <td>3.000000</td>\n",
       "      <td>101.000000</td>\n",
       "      <td>4.000000</td>\n",
       "      <td>1.000000</td>\n",
       "      <td>796.000000</td>\n",
       "      <td>1.000000</td>\n",
       "      <td>...</td>\n",
       "      <td>255.000000</td>\n",
       "      <td>1.000000</td>\n",
       "      <td>1.000000</td>\n",
       "      <td>1.000000</td>\n",
       "      <td>1.000000</td>\n",
       "      <td>1.000000</td>\n",
       "      <td>1.000000</td>\n",
       "      <td>1.000000</td>\n",
       "      <td>1.000000</td>\n",
       "      <td>21.000000</td>\n",
       "    </tr>\n",
       "  </tbody>\n",
       "</table>\n",
       "<p>8 rows × 38 columns</p>\n",
       "</div>"
      ],
      "text/plain": [
       "          src_bytes     dst_bytes          land  wrong_fragment        urgent  \\\n",
       "count  2.254400e+04  2.254400e+04  22544.000000    22544.000000  22544.000000   \n",
       "mean   1.039545e+04  2.056019e+03      0.000311        0.008428      0.000710   \n",
       "std    4.727864e+05  2.121930e+04      0.017619        0.142599      0.036473   \n",
       "min    0.000000e+00  0.000000e+00      0.000000        0.000000      0.000000   \n",
       "25%    0.000000e+00  0.000000e+00      0.000000        0.000000      0.000000   \n",
       "50%    5.400000e+01  4.600000e+01      0.000000        0.000000      0.000000   \n",
       "75%    2.870000e+02  6.010000e+02      0.000000        0.000000      0.000000   \n",
       "max    6.282565e+07  1.345927e+06      1.000000        3.000000      3.000000   \n",
       "\n",
       "                hot  num_failed_logins     logged_in  num_compromised  \\\n",
       "count  22544.000000       22544.000000  22544.000000     22544.000000   \n",
       "mean       0.105394           0.021647      0.442202         0.119899   \n",
       "std        0.928428           0.150328      0.496659         7.269597   \n",
       "min        0.000000           0.000000      0.000000         0.000000   \n",
       "25%        0.000000           0.000000      0.000000         0.000000   \n",
       "50%        0.000000           0.000000      0.000000         0.000000   \n",
       "75%        0.000000           0.000000      1.000000         0.000000   \n",
       "max      101.000000           4.000000      1.000000       796.000000   \n",
       "\n",
       "         root_shell  ...  dst_host_srv_count  dst_host_same_srv_rate  \\\n",
       "count  22544.000000  ...        22544.000000            22544.000000   \n",
       "mean       0.002440  ...          140.750532                0.608722   \n",
       "std        0.049334  ...          111.783972                0.435688   \n",
       "min        0.000000  ...            0.000000                0.000000   \n",
       "25%        0.000000  ...           15.000000                0.070000   \n",
       "50%        0.000000  ...          168.000000                0.920000   \n",
       "75%        0.000000  ...          255.000000                1.000000   \n",
       "max        1.000000  ...          255.000000                1.000000   \n",
       "\n",
       "       dst_host_diff_srv_rate  dst_host_same_src_port_rate  \\\n",
       "count            22544.000000                 22544.000000   \n",
       "mean                 0.090540                     0.132261   \n",
       "std                  0.220717                     0.306268   \n",
       "min                  0.000000                     0.000000   \n",
       "25%                  0.000000                     0.000000   \n",
       "50%                  0.010000                     0.000000   \n",
       "75%                  0.060000                     0.030000   \n",
       "max                  1.000000                     1.000000   \n",
       "\n",
       "       dst_host_srv_diff_host_rate  dst_host_serror_rate  \\\n",
       "count                 22544.000000          22544.000000   \n",
       "mean                      0.019638              0.097814   \n",
       "std                       0.085394              0.273139   \n",
       "min                       0.000000              0.000000   \n",
       "25%                       0.000000              0.000000   \n",
       "50%                       0.000000              0.000000   \n",
       "75%                       0.010000              0.000000   \n",
       "max                       1.000000              1.000000   \n",
       "\n",
       "       dst_host_srv_serror_rate  dst_host_rerror_rate  \\\n",
       "count              22544.000000          22544.000000   \n",
       "mean                   0.099426              0.233385   \n",
       "std                    0.281866              0.387229   \n",
       "min                    0.000000              0.000000   \n",
       "25%                    0.000000              0.000000   \n",
       "50%                    0.000000              0.000000   \n",
       "75%                    0.000000              0.360000   \n",
       "max                    1.000000              1.000000   \n",
       "\n",
       "       dst_host_srv_rerror_rate      duration  \n",
       "count              22544.000000  22544.000000  \n",
       "mean                   0.226683     18.017965  \n",
       "std                    0.400875      4.270361  \n",
       "min                    0.000000      0.000000  \n",
       "25%                    0.000000     17.000000  \n",
       "50%                    0.000000     20.000000  \n",
       "75%                    0.170000     21.000000  \n",
       "max                    1.000000     21.000000  \n",
       "\n",
       "[8 rows x 38 columns]"
      ]
     },
     "execution_count": 12,
     "metadata": {},
     "output_type": "execute_result"
    }
   ],
   "source": [
    "data.describe()"
   ]
  },
  {
   "cell_type": "code",
   "execution_count": 14,
   "metadata": {
    "colab": {
     "base_uri": "https://localhost:8080/"
    },
    "id": "osSEHLduVs_x",
    "outputId": "300e9cc9-c4ed-46e5-85e5-a3c6e2b71ee2"
   },
   "outputs": [
    {
     "name": "stdout",
     "output_type": "stream",
     "text": [
      "The no of data points are: 22544\n",
      "========================================\n",
      "The no of features are: 42\n",
      "========================================\n",
      "Some of the features are: ['protocol_type', 'service', 'flag', 'src_bytes', 'dst_bytes', 'land', 'wrong_fragment', 'urgent', 'hot', 'num_failed_logins']\n"
     ]
    }
   ],
   "source": [
    "print('The no of data points are:',data.shape[0])\n",
    "print('='*40)\n",
    "print('The no of features are:',data.shape[1])\n",
    "print('='*40)\n",
    "print('Some of the features are:',features[:10])"
   ]
  },
  {
   "cell_type": "code",
   "execution_count": 16,
   "metadata": {
    "id": "Oydwy7fgVs_x"
   },
   "outputs": [],
   "source": [
    "output = data['intrusion_type'].values\n",
    "labels = set(output)"
   ]
  },
  {
   "cell_type": "code",
   "execution_count": 18,
   "metadata": {
    "colab": {
     "base_uri": "https://localhost:8080/"
    },
    "id": "8K_p73lKVs_x",
    "outputId": "5e0075bc-6376-4715-ce28-e1b3248929a7"
   },
   "outputs": [
    {
     "name": "stdout",
     "output_type": "stream",
     "text": [
      "The different type of output labels are: {'ftp_write', 'saint', 'apache2', 'buffer_overflow', 'land', 'xsnoop', 'normal', 'phf', 'satan', 'multihop', 'named', 'xlock', 'udpstorm', 'pod', 'smurf', 'mailbomb', 'snmpgetattack', 'imap', 'rootkit', 'httptunnel', 'ps', 'portsweep', 'neptune', 'processtable', 'ipsweep', 'guess_passwd', 'perl', 'sendmail', 'nmap', 'mscan', 'loadmodule', 'xterm', 'teardrop', 'sqlattack', 'warezmaster', 'back', 'snmpguess', 'worm'}\n",
      "====================================================================================================\n",
      "No. of different output labels are: 38\n"
     ]
    }
   ],
   "source": [
    "print('The different type of output labels are:',labels)\n",
    "print('='*100)\n",
    "print('No. of different output labels are:', len(labels))"
   ]
  },
  {
   "cell_type": "markdown",
   "metadata": {
    "id": "BmpQQsC6Vs_y"
   },
   "source": [
    "#  Data Cleaning:- "
   ]
  },
  {
   "cell_type": "markdown",
   "metadata": {
    "id": "pmw5hnfnVs_y"
   },
   "source": [
    "### **Checking for NULL values:-**"
   ]
  },
  {
   "cell_type": "code",
   "execution_count": 22,
   "metadata": {
    "colab": {
     "base_uri": "https://localhost:8080/"
    },
    "id": "k0Vz5SskVs_y",
    "outputId": "78f9bb5c-c48b-403e-e6f9-43e9e981e30d"
   },
   "outputs": [
    {
     "name": "stdout",
     "output_type": "stream",
     "text": [
      "Null values in the dataset are:  0\n"
     ]
    }
   ],
   "source": [
    "print('Null values in the dataset are: ', len(data[data.isnull().any(axis=1)]))\n"
   ]
  },
  {
   "cell_type": "markdown",
   "metadata": {
    "id": "U5FAaEv4Vs_y"
   },
   "source": [
    "### **Checking for DUPLICATE values:-**"
   ]
  },
  {
   "cell_type": "code",
   "execution_count": 25,
   "metadata": {
    "id": "qnBztousVs_y"
   },
   "outputs": [],
   "source": [
    "duplicateRowsDF = data[data.duplicated()]"
   ]
  },
  {
   "cell_type": "code",
   "execution_count": 27,
   "metadata": {
    "colab": {
     "base_uri": "https://localhost:8080/",
     "height": 255
    },
    "id": "VSkeuetuVs_y",
    "outputId": "17bbe6cd-35a0-41e4-9ef5-bea30281bb2c"
   },
   "outputs": [
    {
     "data": {
      "text/html": [
       "<div>\n",
       "<style scoped>\n",
       "    .dataframe tbody tr th:only-of-type {\n",
       "        vertical-align: middle;\n",
       "    }\n",
       "\n",
       "    .dataframe tbody tr th {\n",
       "        vertical-align: top;\n",
       "    }\n",
       "\n",
       "    .dataframe thead th {\n",
       "        text-align: right;\n",
       "    }\n",
       "</style>\n",
       "<table border=\"1\" class=\"dataframe\">\n",
       "  <thead>\n",
       "    <tr style=\"text-align: right;\">\n",
       "      <th></th>\n",
       "      <th>protocol_type</th>\n",
       "      <th>service</th>\n",
       "      <th>flag</th>\n",
       "      <th>src_bytes</th>\n",
       "      <th>dst_bytes</th>\n",
       "      <th>land</th>\n",
       "      <th>wrong_fragment</th>\n",
       "      <th>urgent</th>\n",
       "      <th>hot</th>\n",
       "      <th>num_failed_logins</th>\n",
       "      <th>...</th>\n",
       "      <th>dst_host_same_srv_rate</th>\n",
       "      <th>dst_host_diff_srv_rate</th>\n",
       "      <th>dst_host_same_src_port_rate</th>\n",
       "      <th>dst_host_srv_diff_host_rate</th>\n",
       "      <th>dst_host_serror_rate</th>\n",
       "      <th>dst_host_srv_serror_rate</th>\n",
       "      <th>dst_host_rerror_rate</th>\n",
       "      <th>dst_host_srv_rerror_rate</th>\n",
       "      <th>intrusion_type</th>\n",
       "      <th>duration</th>\n",
       "    </tr>\n",
       "  </thead>\n",
       "  <tbody>\n",
       "    <tr>\n",
       "      <th>7252</th>\n",
       "      <td>tcp</td>\n",
       "      <td>telnet</td>\n",
       "      <td>SF</td>\n",
       "      <td>0</td>\n",
       "      <td>44</td>\n",
       "      <td>0</td>\n",
       "      <td>0</td>\n",
       "      <td>0</td>\n",
       "      <td>0</td>\n",
       "      <td>0</td>\n",
       "      <td>...</td>\n",
       "      <td>0.97</td>\n",
       "      <td>0.02</td>\n",
       "      <td>0.0</td>\n",
       "      <td>0.0</td>\n",
       "      <td>0.33</td>\n",
       "      <td>0.34</td>\n",
       "      <td>0.04</td>\n",
       "      <td>0.02</td>\n",
       "      <td>processtable</td>\n",
       "      <td>18</td>\n",
       "    </tr>\n",
       "    <tr>\n",
       "      <th>3</th>\n",
       "      <td>tcp</td>\n",
       "      <td>pop_3</td>\n",
       "      <td>SF</td>\n",
       "      <td>32</td>\n",
       "      <td>93</td>\n",
       "      <td>0</td>\n",
       "      <td>0</td>\n",
       "      <td>0</td>\n",
       "      <td>0</td>\n",
       "      <td>0</td>\n",
       "      <td>...</td>\n",
       "      <td>0.94</td>\n",
       "      <td>0.02</td>\n",
       "      <td>0.0</td>\n",
       "      <td>0.0</td>\n",
       "      <td>0.00</td>\n",
       "      <td>0.00</td>\n",
       "      <td>0.02</td>\n",
       "      <td>0.00</td>\n",
       "      <td>guess_passwd</td>\n",
       "      <td>18</td>\n",
       "    </tr>\n",
       "    <tr>\n",
       "      <th>7294</th>\n",
       "      <td>tcp</td>\n",
       "      <td>telnet</td>\n",
       "      <td>SF</td>\n",
       "      <td>0</td>\n",
       "      <td>44</td>\n",
       "      <td>0</td>\n",
       "      <td>0</td>\n",
       "      <td>0</td>\n",
       "      <td>0</td>\n",
       "      <td>0</td>\n",
       "      <td>...</td>\n",
       "      <td>0.90</td>\n",
       "      <td>0.11</td>\n",
       "      <td>0.0</td>\n",
       "      <td>0.0</td>\n",
       "      <td>0.50</td>\n",
       "      <td>0.55</td>\n",
       "      <td>0.11</td>\n",
       "      <td>0.01</td>\n",
       "      <td>processtable</td>\n",
       "      <td>18</td>\n",
       "    </tr>\n",
       "    <tr>\n",
       "      <th>3</th>\n",
       "      <td>tcp</td>\n",
       "      <td>pop_3</td>\n",
       "      <td>SF</td>\n",
       "      <td>30</td>\n",
       "      <td>93</td>\n",
       "      <td>0</td>\n",
       "      <td>0</td>\n",
       "      <td>0</td>\n",
       "      <td>0</td>\n",
       "      <td>0</td>\n",
       "      <td>...</td>\n",
       "      <td>0.98</td>\n",
       "      <td>0.01</td>\n",
       "      <td>0.0</td>\n",
       "      <td>0.0</td>\n",
       "      <td>0.00</td>\n",
       "      <td>0.00</td>\n",
       "      <td>0.00</td>\n",
       "      <td>0.00</td>\n",
       "      <td>guess_passwd</td>\n",
       "      <td>17</td>\n",
       "    </tr>\n",
       "    <tr>\n",
       "      <th>7342</th>\n",
       "      <td>tcp</td>\n",
       "      <td>telnet</td>\n",
       "      <td>SF</td>\n",
       "      <td>0</td>\n",
       "      <td>44</td>\n",
       "      <td>0</td>\n",
       "      <td>0</td>\n",
       "      <td>0</td>\n",
       "      <td>0</td>\n",
       "      <td>0</td>\n",
       "      <td>...</td>\n",
       "      <td>0.89</td>\n",
       "      <td>0.02</td>\n",
       "      <td>0.0</td>\n",
       "      <td>0.0</td>\n",
       "      <td>0.27</td>\n",
       "      <td>0.30</td>\n",
       "      <td>0.01</td>\n",
       "      <td>0.00</td>\n",
       "      <td>processtable</td>\n",
       "      <td>14</td>\n",
       "    </tr>\n",
       "  </tbody>\n",
       "</table>\n",
       "<p>5 rows × 42 columns</p>\n",
       "</div>"
      ],
      "text/plain": [
       "     protocol_type service flag  src_bytes  dst_bytes  land  wrong_fragment  \\\n",
       "7252           tcp  telnet   SF          0         44     0               0   \n",
       "3              tcp   pop_3   SF         32         93     0               0   \n",
       "7294           tcp  telnet   SF          0         44     0               0   \n",
       "3              tcp   pop_3   SF         30         93     0               0   \n",
       "7342           tcp  telnet   SF          0         44     0               0   \n",
       "\n",
       "      urgent  hot  num_failed_logins  ...  dst_host_same_srv_rate  \\\n",
       "7252       0    0                  0  ...                    0.97   \n",
       "3          0    0                  0  ...                    0.94   \n",
       "7294       0    0                  0  ...                    0.90   \n",
       "3          0    0                  0  ...                    0.98   \n",
       "7342       0    0                  0  ...                    0.89   \n",
       "\n",
       "      dst_host_diff_srv_rate  dst_host_same_src_port_rate  \\\n",
       "7252                    0.02                          0.0   \n",
       "3                       0.02                          0.0   \n",
       "7294                    0.11                          0.0   \n",
       "3                       0.01                          0.0   \n",
       "7342                    0.02                          0.0   \n",
       "\n",
       "      dst_host_srv_diff_host_rate  dst_host_serror_rate  \\\n",
       "7252                          0.0                  0.33   \n",
       "3                             0.0                  0.00   \n",
       "7294                          0.0                  0.50   \n",
       "3                             0.0                  0.00   \n",
       "7342                          0.0                  0.27   \n",
       "\n",
       "      dst_host_srv_serror_rate  dst_host_rerror_rate  \\\n",
       "7252                      0.34                  0.04   \n",
       "3                         0.00                  0.02   \n",
       "7294                      0.55                  0.11   \n",
       "3                         0.00                  0.00   \n",
       "7342                      0.30                  0.01   \n",
       "\n",
       "      dst_host_srv_rerror_rate  intrusion_type  duration  \n",
       "7252                      0.02    processtable        18  \n",
       "3                         0.00    guess_passwd        18  \n",
       "7294                      0.01    processtable        18  \n",
       "3                         0.00    guess_passwd        17  \n",
       "7342                      0.00    processtable        14  \n",
       "\n",
       "[5 rows x 42 columns]"
      ]
     },
     "execution_count": 27,
     "metadata": {},
     "output_type": "execute_result"
    }
   ],
   "source": [
    "duplicateRowsDF.head(5)"
   ]
  },
  {
   "cell_type": "code",
   "execution_count": 29,
   "metadata": {
    "colab": {
     "base_uri": "https://localhost:8080/"
    },
    "id": "gGGp-34xVs_z",
    "outputId": "69311f8d-c2b0-4d9b-d46a-e00c24ff2381"
   },
   "outputs": [
    {
     "data": {
      "text/plain": [
       "(22416, 42)"
      ]
     },
     "execution_count": 29,
     "metadata": {},
     "output_type": "execute_result"
    }
   ],
   "source": [
    "data.drop_duplicates(subset=features, keep='first', inplace=True)\n",
    "data.shape"
   ]
  },
  {
   "cell_type": "code",
   "execution_count": 31,
   "metadata": {
    "id": "YSnfCxjjVs_z"
   },
   "outputs": [],
   "source": [
    "data.to_pickle('data.pkl')\n",
    "data = pd.read_pickle('data.pkl')"
   ]
  },
  {
   "cell_type": "markdown",
   "metadata": {
    "id": "dXAEDQUpVs_z"
   },
   "source": [
    "# Exploratory Data Analysis:-"
   ]
  },
  {
   "cell_type": "markdown",
   "metadata": {
    "id": "LFhl7cbuVs_7"
   },
   "source": [
    "### **Distribution of categories in class label:-**"
   ]
  },
  {
   "cell_type": "code",
   "execution_count": 35,
   "metadata": {
    "colab": {
     "base_uri": "https://localhost:8080/",
     "height": 960
    },
    "id": "OJCABsG_Vs_7",
    "outputId": "fa1172e0-dd0c-427e-9f64-722b39c03eb1"
   },
   "outputs": [
    {
     "data": {
      "image/png": "[encoded data removed]",
      "text/plain": [
       "<Figure size 2000x1500 with 1 Axes>"
      ]
     },
     "metadata": {},
     "output_type": "display_data"
    },
    {
     "name": "stdout",
     "output_type": "stream",
     "text": [
      "Number of data points in class 1 : 9711 ( 43.322 %)\n",
      "Number of data points in class 2 : 4657 ( 20.775 %)\n",
      "Number of data points in class 3 : 1152 ( 5.139 %)\n",
      "Number of data points in class 4 : 996 ( 4.443 %)\n",
      "Number of data points in class 5 : 938 ( 4.185 %)\n",
      "Number of data points in class 6 : 737 ( 3.288 %)\n",
      "Number of data points in class 7 : 735 ( 3.279 %)\n",
      "Number of data points in class 8 : 665 ( 2.967 %)\n",
      "Number of data points in class 9 : 643 ( 2.868 %)\n",
      "Number of data points in class 10 : 358 ( 1.597 %)\n",
      "Number of data points in class 11 : 331 ( 1.477 %)\n",
      "Number of data points in class 12 : 319 ( 1.423 %)\n",
      "Number of data points in class 13 : 293 ( 1.307 %)\n",
      "Number of data points in class 14 : 178 ( 0.794 %)\n",
      "Number of data points in class 15 : 157 ( 0.7 %)\n",
      "Number of data points in class 16 : 141 ( 0.629 %)\n",
      "Number of data points in class 17 : 133 ( 0.593 %)\n",
      "Number of data points in class 18 : 73 ( 0.326 %)\n",
      "Number of data points in class 19 : 41 ( 0.183 %)\n",
      "Number of data points in class 20 : 20 ( 0.089 %)\n",
      "Number of data points in class 21 : 18 ( 0.08 %)\n",
      "Number of data points in class 22 : 17 ( 0.076 %)\n",
      "Number of data points in class 23 : 15 ( 0.067 %)\n",
      "Number of data points in class 24 : 14 ( 0.062 %)\n",
      "Number of data points in class 25 : 13 ( 0.058 %)\n",
      "Number of data points in class 26 : 13 ( 0.058 %)\n",
      "Number of data points in class 27 : 12 ( 0.054 %)\n",
      "Number of data points in class 28 : 9 ( 0.04 %)\n",
      "Number of data points in class 29 : 7 ( 0.031 %)\n",
      "Number of data points in class 30 : 4 ( 0.018 %)\n",
      "Number of data points in class 31 : 3 ( 0.013 %)\n",
      "Number of data points in class 32 : 2 ( 0.009 %)\n",
      "Number of data points in class 33 : 2 ( 0.009 %)\n",
      "Number of data points in class 34 : 2 ( 0.009 %)\n",
      "Number of data points in class 35 : 2 ( 0.009 %)\n",
      "Number of data points in class 36 : 2 ( 0.009 %)\n",
      "Number of data points in class 37 : 2 ( 0.009 %)\n",
      "Number of data points in class 38 : 1 ( 0.004 %)\n"
     ]
    }
   ],
   "source": [
    "plt.figure(figsize=(20,15))\n",
    "class_distribution = data['intrusion_type'].value_counts()\n",
    "class_distribution.plot(kind='bar')\n",
    "plt.xlabel('Class')\n",
    "plt.ylabel('Data points per Class')\n",
    "plt.title('Distribution of yi in train data')\n",
    "plt.grid()\n",
    "plt.show()\n",
    "\n",
    "# ref: argsort https://docs.scipy.org/doc/numpy/reference/generated/numpy.argsort.html\n",
    "# -(train_class_distribution.values): the minus sign will give us in decreasing order\n",
    "sorted_yi = np.argsort(-class_distribution.values)\n",
    "for i in sorted_yi:\n",
    "    print('Number of data points in class', i+1, ':',class_distribution.values[i], '(', np.round((class_distribution.values[i]/data.shape[0]*100), 3), '%)')\n",
    "\n"
   ]
  },
  {
   "cell_type": "markdown",
   "metadata": {
    "id": "JpmjJ4DeVs_7"
   },
   "source": [
    "- Most of the data points are from \"normal\" (good connections) category which is around 53.72 %.\n",
    "\n",
    "\n",
    "- In the categories that belong to bad connections, \"neptune.\" (33.046 %) and \"back.\" (2.913 %) have the highest no. of data points.\n",
    "\n",
    "\n",
    "- Classes \"rootkit.\", \"loadmodule.\", \"ftp_write.\", \"multihop.\", \"phf.\", \"perl.\", \"spy.\" have the least no. of data points with less than 10 data points per class.\n",
    "\n",
    "\n",
    "- The dataset is highly imbalanced, thus we will need to build a model which should be able to classify data points from these low distribution classes accurately."
   ]
  },
  {
   "cell_type": "markdown",
   "metadata": {
    "id": "3BHri7b3Vs_7"
   },
   "source": [
    "# Performance metrics for the problem:-"
   ]
  },
  {
   "cell_type": "markdown",
   "metadata": {
    "id": "FS0UX_N1Vs_8"
   },
   "source": [
    "- As the dataset is highly imbalanced, we will need to build a model which should be able to classify the INTRUSION categories accurately.\n",
    "\n",
    "\n",
    "- We will use the CONFUSION MATRIX as that will help us to determine how well the data points belonging to each of the 23 classes are classified.\n",
    "\n",
    "\n",
    "- Along with the confusion matrix, we will also calculate precision, recall and weighted f1-score to determine the best model.\n",
    "\n",
    "\n",
    "- Although not preferred for imbalanced datasets, but we will also display the accuracy score that will give us an estimate of the total no. of correctly classified points.\n",
    "\n",
    "\n",
    "- Some important evaluation scores that can be added for this problem are the TPR (True Positive rate) and FPR (False Positive Rate) scores."
   ]
  },
  {
   "cell_type": "markdown",
   "metadata": {
    "id": "qrqVrOlsVs_8"
   },
   "source": [
    " For this problem, we want our FPR to be as low as possible. This is because, a \"Normal\" connection getting dropped beacuse of getting misclassified as a \"Bad\" connection is less severe compared to a \"Bad\" connection getting misclassified as a \"Normal\" connection, which may result in a security threat. "
   ]
  },
  {
   "cell_type": "markdown",
   "metadata": {
    "id": "SZbZT_8OVtAH"
   },
   "source": [
    "### **Train Test Split:-**"
   ]
  },
  {
   "cell_type": "code",
   "execution_count": 42,
   "metadata": {
    "id": "K1ksFAKZVtAH"
   },
   "outputs": [],
   "source": [
    "X = data.drop(\"intrusion_type\", axis = 1)\n",
    "Y = data[\"intrusion_type\"]\n",
    "\n",
    "X_train, X_test, Y_train, Y_test = train_test_split(X, Y, test_size= 0.25, random_state= 45)"
   ]
  },
  {
   "cell_type": "code",
   "execution_count": 44,
   "metadata": {
    "colab": {
     "base_uri": "https://localhost:8080/"
    },
    "id": "LxsbYNCgVtAH",
    "outputId": "1be0d1b0-4902-4960-bdb8-9344e63afad1"
   },
   "outputs": [
    {
     "name": "stdout",
     "output_type": "stream",
     "text": [
      "Train data\n",
      "(16812, 41)\n",
      "(16812,)\n",
      "====================\n",
      "Test data\n",
      "(5604, 41)\n",
      "(5604,)\n"
     ]
    }
   ],
   "source": [
    "print('Train data')\n",
    "print(X_train.shape)\n",
    "print(Y_train.shape)\n",
    "print('='*20)\n",
    "print('Test data')\n",
    "print(X_test.shape)\n",
    "print(Y_test.shape)"
   ]
  },
  {
   "cell_type": "markdown",
   "metadata": {
    "id": "BzF8G884VtAH"
   },
   "source": [
    "# Vectorizing Categorical features using one-hot encoding:- "
   ]
  },
  {
   "cell_type": "markdown",
   "metadata": {
    "id": "cfYW9ofFVtAH"
   },
   "source": [
    "Categorical features in our dataset are:- 'protocol_type', 'service', and 'flag'."
   ]
  },
  {
   "cell_type": "markdown",
   "metadata": {
    "id": "y9GnJh6jVtAI"
   },
   "source": [
    "### **Protocol_type:-**"
   ]
  },
  {
   "cell_type": "code",
   "execution_count": 49,
   "metadata": {
    "colab": {
     "base_uri": "https://localhost:8080/"
    },
    "id": "pmFkTqm8VtAI",
    "outputId": "e35da63f-925f-43b0-8d94-86a40e1c7ab5"
   },
   "outputs": [
    {
     "name": "stdout",
     "output_type": "stream",
     "text": [
      "Protocol types are: ['tcp' 'icmp' 'udp']\n"
     ]
    }
   ],
   "source": [
    "protocol = data[\"protocol_type\"].unique()\n",
    "print('Protocol types are:', protocol)"
   ]
  },
  {
   "cell_type": "code",
   "execution_count": 51,
   "metadata": {
    "id": "bEXradkrVtAI"
   },
   "outputs": [],
   "source": [
    "one_hot = CountVectorizer(vocabulary=protocol, binary=True)\n",
    "train_protocol = one_hot.fit_transform(X_train['protocol_type'].values)\n",
    "test_protocol = one_hot.transform(X_test['protocol_type'].values)"
   ]
  },
  {
   "cell_type": "code",
   "execution_count": 53,
   "metadata": {
    "colab": {
     "base_uri": "https://localhost:8080/"
    },
    "id": "o87tBVkaVtAI",
    "outputId": "4106e5a8-2765-4356-b850-a78d2ef92040"
   },
   "outputs": [
    {
     "name": "stdout",
     "output_type": "stream",
     "text": [
      "[[1 0 0]]\n"
     ]
    },
    {
     "data": {
      "text/plain": [
       "(16812, 3)"
      ]
     },
     "execution_count": 53,
     "metadata": {},
     "output_type": "execute_result"
    }
   ],
   "source": [
    "print(train_protocol[1].toarray())\n",
    "train_protocol.shape"
   ]
  },
  {
   "cell_type": "markdown",
   "metadata": {
    "id": "1Y7AcwIbVtAI"
   },
   "source": [
    "<h5> Service:- </h5>"
   ]
  },
  {
   "cell_type": "code",
   "execution_count": 56,
   "metadata": {
    "colab": {
     "base_uri": "https://localhost:8080/"
    },
    "id": "0hOzbIfoVtAI",
    "outputId": "ebb6f01c-34d7-4728-a20b-5cbc3f09b285"
   },
   "outputs": [
    {
     "name": "stdout",
     "output_type": "stream",
     "text": [
      "Service types are:\n",
      " ['smtp', 'urp_i', 'http_443', 'finger', 'ssh', 'whois', 'netbios_dgm', 'telnet', 'Z39_50', 'nnsp', 'vmnet', 'nntp', 'netbios_ns', 'netstat', 'other', 'shell', 'courier', 'http', 'private', 'login', 'name', 'bgp', 'pop_3', 'rje', 'imap4', 'tim_i', 'domain_u', 'ftp', 'daytime', 'supdup', 'ecr_i', 'pm_dump', 'pop_2', 'netbios_ssn', 'gopher', 'klogin', 'efs', 'time', 'IRC', 'kshell', 'ctf', 'sunrpc', 'discard', 'exec', 'systat', 'ftp_data', 'mtp', 'ntp_u', 'remote_job', 'ldap', 'uucp', 'sql_net', 'domain', 'hostnames', 'auth', 'link', 'echo', 'eco_i', 'iso_tsap', 'X11', 'uucp_path', 'csnet_ns', 'printer']\n"
     ]
    }
   ],
   "source": [
    "service = list(X_train['service'].values)\n",
    "service = list(set(service))\n",
    "print('Service types are:\\n', service)"
   ]
  },
  {
   "cell_type": "code",
   "execution_count": 58,
   "metadata": {
    "id": "Fn0QiQ3qVtAJ"
   },
   "outputs": [
    {
     "name": "stderr",
     "output_type": "stream",
     "text": [
      "C:\\Users\\ncmre\\anaconda3\\Lib\\site-packages\\sklearn\\feature_extraction\\text.py:1364: UserWarning: Upper case characters found in vocabulary while 'lowercase' is True. These entries will not be matched with any documents\n",
      "  warnings.warn(\n"
     ]
    }
   ],
   "source": [
    "one_hot = CountVectorizer(vocabulary=service, binary=True)\n",
    "train_service = one_hot.fit_transform(X_train['service'].values)\n",
    "test_service = one_hot.transform(X_test['service'].values)"
   ]
  },
  {
   "cell_type": "code",
   "execution_count": 60,
   "metadata": {
    "colab": {
     "base_uri": "https://localhost:8080/"
    },
    "id": "LMOLmTowVtAJ",
    "outputId": "15ca3ef0-d861-4bff-dc05-764a67f582d1"
   },
   "outputs": [
    {
     "name": "stdout",
     "output_type": "stream",
     "text": [
      "[[0 0 0 0 0 0 0 0 0 0 0 0 0 0 0 0 0 0 1 0 0 0 0 0 0 0 0 0 0 0 0 0 0 0 0 0\n",
      "  0 0 0 0 0 0 0 0 0 0 0 0 0 0 0 0 0 0 0 0 0 0 0 0 0 0 0]]\n"
     ]
    }
   ],
   "source": [
    "print(train_service[100].toarray())"
   ]
  },
  {
   "cell_type": "code",
   "execution_count": 62,
   "metadata": {
    "colab": {
     "base_uri": "https://localhost:8080/"
    },
    "id": "cB_IaFfuVtAJ",
    "outputId": "0fa8676b-858a-4a17-ce0a-d7e4d4251dac"
   },
   "outputs": [
    {
     "data": {
      "text/plain": [
       "(16812, 63)"
      ]
     },
     "execution_count": 62,
     "metadata": {},
     "output_type": "execute_result"
    }
   ],
   "source": [
    "train_service.shape"
   ]
  },
  {
   "cell_type": "markdown",
   "metadata": {
    "id": "MWea-IkvVtAJ"
   },
   "source": [
    "<h5> Flag:- </h5>"
   ]
  },
  {
   "cell_type": "code",
   "execution_count": 65,
   "metadata": {
    "colab": {
     "base_uri": "https://localhost:8080/"
    },
    "id": "JOtmm1MVVtAJ",
    "outputId": "e38e9ee0-4e4b-41f9-8f4a-202beb1f5eb3"
   },
   "outputs": [
    {
     "name": "stdout",
     "output_type": "stream",
     "text": [
      "flag types are: ['SF', 'S0', 'OTH', 'S3', 'S1', 'RSTOS0', 'RSTO', 'SH', 'REJ', 'S2', 'RSTR']\n"
     ]
    }
   ],
   "source": [
    "flag = list(X_train['flag'].values)\n",
    "flag = list(set(flag))\n",
    "print('flag types are:', flag)"
   ]
  },
  {
   "cell_type": "code",
   "execution_count": 67,
   "metadata": {
    "id": "iWdNCkAJVtAJ"
   },
   "outputs": [],
   "source": [
    "from sklearn.feature_extraction.text import CountVectorizer\n",
    "one_hot = CountVectorizer(binary=True)\n",
    "one_hot.fit(X_train['flag'].values)\n",
    "train_flag = one_hot.transform(X_train['flag'].values)\n",
    "test_flag = one_hot.transform(X_test['flag'].values)"
   ]
  },
  {
   "cell_type": "code",
   "execution_count": 69,
   "metadata": {
    "colab": {
     "base_uri": "https://localhost:8080/"
    },
    "id": "dLee2KMlVtAK",
    "outputId": "58439cce-1855-4a66-cf7a-630856b411bb"
   },
   "outputs": [
    {
     "name": "stdout",
     "output_type": "stream",
     "text": [
      "[[0 0 0 0 0 1 0 0 0 0 0]]\n"
     ]
    },
    {
     "data": {
      "text/plain": [
       "(16812, 11)"
      ]
     },
     "execution_count": 69,
     "metadata": {},
     "output_type": "execute_result"
    }
   ],
   "source": [
    "print(test_flag[3000].toarray())\n",
    "train_flag.shape"
   ]
  },
  {
   "cell_type": "code",
   "execution_count": 71,
   "metadata": {
    "id": "xELTT76sVtAK"
   },
   "outputs": [],
   "source": [
    "X_train.drop(['protocol_type','service','flag'], axis=1, inplace=True)\n",
    "X_test.drop(['protocol_type','service','flag'], axis=1, inplace=True)"
   ]
  },
  {
   "cell_type": "markdown",
   "metadata": {
    "id": "-DkoSxNJVtAK"
   },
   "source": [
    "<h3> Applying Standardisation on the continuous features of our dataset:- </h3>"
   ]
  },
  {
   "cell_type": "code",
   "execution_count": 74,
   "metadata": {
    "id": "D8Z1AfzdVtAK"
   },
   "outputs": [],
   "source": [
    "def feature_scaling(X_train, X_test, feature_name):\n",
    "\n",
    "    '''\n",
    "    This function performs standardisation on the features\n",
    "    '''\n",
    "\n",
    "    from sklearn.preprocessing import StandardScaler\n",
    "\n",
    "    scaler = StandardScaler()\n",
    "    scaler1 = scaler.fit_transform(X_train[feature_name].values.reshape(-1,1))\n",
    "    scaler2 = scaler.transform(X_test[feature_name].values.reshape(-1,1))\n",
    "\n",
    "    return scaler1, scaler2"
   ]
  },
  {
   "cell_type": "markdown",
   "metadata": {
    "id": "RrdxeY2WVtAK"
   },
   "source": [
    "<h5>  Duration:- </h5>"
   ]
  },
  {
   "cell_type": "code",
   "execution_count": 77,
   "metadata": {
    "id": "TlK0UpUmVtAK"
   },
   "outputs": [
    {
     "name": "stdout",
     "output_type": "stream",
     "text": [
      "[-0.00940071]\n"
     ]
    }
   ],
   "source": [
    "duration1, duration2 = feature_scaling(X_train, X_test, 'duration')\n",
    "print(duration1[1])"
   ]
  },
  {
   "cell_type": "markdown",
   "metadata": {
    "id": "gfZKmJXwVtAL"
   },
   "source": [
    "<h5>  src_bytes :- </h5>"
   ]
  },
  {
   "cell_type": "code",
   "execution_count": 80,
   "metadata": {
    "id": "XaQ6_kLWVtAL"
   },
   "outputs": [],
   "source": [
    "src_bytes1, src_bytes2 = feature_scaling(X_train, X_test, 'src_bytes')"
   ]
  },
  {
   "cell_type": "code",
   "execution_count": 82,
   "metadata": {
    "colab": {
     "base_uri": "https://localhost:8080/"
    },
    "id": "MFvl29lAVtAL",
    "outputId": "ab052c21-85b3-4678-e562-36e1760c3176"
   },
   "outputs": [
    {
     "name": "stdout",
     "output_type": "stream",
     "text": [
      "[-0.02191261]\n"
     ]
    }
   ],
   "source": [
    "print(src_bytes1[1])"
   ]
  },
  {
   "cell_type": "markdown",
   "metadata": {
    "id": "LGU-9WSVVtAL"
   },
   "source": [
    "<h5>dst_bytes:-</h5>"
   ]
  },
  {
   "cell_type": "code",
   "execution_count": 85,
   "metadata": {
    "id": "8ak1ZIZAVtAL"
   },
   "outputs": [],
   "source": [
    "dst_bytes1, dst_bytes2 = feature_scaling(X_train, X_test, 'dst_bytes')"
   ]
  },
  {
   "cell_type": "code",
   "execution_count": 87,
   "metadata": {
    "colab": {
     "base_uri": "https://localhost:8080/"
    },
    "id": "Pk0hiixgVtAL",
    "outputId": "a928634b-c536-4cef-e6ff-3d0715e776df"
   },
   "outputs": [
    {
     "name": "stdout",
     "output_type": "stream",
     "text": [
      "[-0.09664663]\n"
     ]
    }
   ],
   "source": [
    "print(dst_bytes1[1])"
   ]
  },
  {
   "cell_type": "markdown",
   "metadata": {
    "id": "jm3BzTjoVtAL"
   },
   "source": [
    "<h5>wrong_fragment:-</h5>"
   ]
  },
  {
   "cell_type": "code",
   "execution_count": 90,
   "metadata": {
    "id": "s08DxlsEVtAL"
   },
   "outputs": [],
   "source": [
    "wrong_fragment1, wrong_fragment2 = feature_scaling(X_train, X_test, 'wrong_fragment')"
   ]
  },
  {
   "cell_type": "code",
   "execution_count": 92,
   "metadata": {
    "colab": {
     "base_uri": "https://localhost:8080/"
    },
    "id": "qh2fL3G_VtAL",
    "outputId": "5979d015-ef6f-46a4-c9c7-c80b5aadb973"
   },
   "outputs": [
    {
     "name": "stdout",
     "output_type": "stream",
     "text": [
      "[-0.052838]\n"
     ]
    }
   ],
   "source": [
    "print(wrong_fragment1[1])"
   ]
  },
  {
   "cell_type": "markdown",
   "metadata": {
    "id": "pmZ1MndcVtAM"
   },
   "source": [
    "<h5>urgent :-</h5>"
   ]
  },
  {
   "cell_type": "code",
   "execution_count": 95,
   "metadata": {
    "id": "Fz9jqa1JVtAM"
   },
   "outputs": [],
   "source": [
    "urgent1, urgent2 = feature_scaling(X_train, X_test, 'urgent')"
   ]
  },
  {
   "cell_type": "code",
   "execution_count": 97,
   "metadata": {
    "colab": {
     "base_uri": "https://localhost:8080/"
    },
    "id": "5F6gEDogVtAM",
    "outputId": "ec9e52fe-1ba3-41d4-8c9b-74ecdb1002d0"
   },
   "outputs": [
    {
     "name": "stdout",
     "output_type": "stream",
     "text": [
      "[-0.02148735]\n"
     ]
    }
   ],
   "source": [
    "print(urgent1[1])"
   ]
  },
  {
   "cell_type": "markdown",
   "metadata": {
    "id": "MqhR8btyVtAM"
   },
   "source": [
    "<h5>hot :-</h5>"
   ]
  },
  {
   "cell_type": "code",
   "execution_count": 100,
   "metadata": {
    "id": "PiI4FF5cVtAM"
   },
   "outputs": [],
   "source": [
    "hot1, hot2 = feature_scaling(X_train, X_test, 'hot')"
   ]
  },
  {
   "cell_type": "code",
   "execution_count": 102,
   "metadata": {
    "colab": {
     "base_uri": "https://localhost:8080/"
    },
    "id": "h4UrQgwAVtAM",
    "outputId": "6be77820-407b-4dcc-df7c-a814b95e328f"
   },
   "outputs": [
    {
     "name": "stdout",
     "output_type": "stream",
     "text": [
      "[-0.16367299]\n"
     ]
    }
   ],
   "source": [
    "print(hot1[1])"
   ]
  },
  {
   "cell_type": "markdown",
   "metadata": {
    "id": "3frG4a3EVtAM"
   },
   "source": [
    "<h5>num_failed_logins</h5>"
   ]
  },
  {
   "cell_type": "code",
   "execution_count": 105,
   "metadata": {
    "id": "gYWGRXGgVtAM"
   },
   "outputs": [],
   "source": [
    "num_failed_logins1, num_failed_logins2 = feature_scaling(X_train, X_test, 'num_failed_logins')"
   ]
  },
  {
   "cell_type": "code",
   "execution_count": 107,
   "metadata": {
    "colab": {
     "base_uri": "https://localhost:8080/"
    },
    "id": "UF1b2AN7VtAM",
    "outputId": "51e72a94-4f8f-4217-e180-d22a921d3083"
   },
   "outputs": [
    {
     "name": "stdout",
     "output_type": "stream",
     "text": [
      "[-0.1431444]\n"
     ]
    }
   ],
   "source": [
    "print(num_failed_logins1[1])"
   ]
  },
  {
   "cell_type": "markdown",
   "metadata": {
    "id": "QWEqlN_OVtAM"
   },
   "source": [
    "<h5>num_compromised :-</h5>"
   ]
  },
  {
   "cell_type": "code",
   "execution_count": 110,
   "metadata": {
    "id": "IHM59GqUVtAM"
   },
   "outputs": [],
   "source": [
    "num_compromised1, num_compromised2 = feature_scaling(X_train, X_test, 'num_compromised')"
   ]
  },
  {
   "cell_type": "code",
   "execution_count": 112,
   "metadata": {
    "colab": {
     "base_uri": "https://localhost:8080/"
    },
    "id": "z1vyK1ScVtAN",
    "outputId": "51db3f3b-5a62-4943-a9fc-309d2b7dd36a"
   },
   "outputs": [
    {
     "data": {
      "text/plain": [
       "array([-0.01772853])"
      ]
     },
     "execution_count": 112,
     "metadata": {},
     "output_type": "execute_result"
    }
   ],
   "source": [
    "num_compromised1[1]"
   ]
  },
  {
   "cell_type": "markdown",
   "metadata": {
    "id": "w_w0IcHkVtAN"
   },
   "source": [
    "<h5>root_shell :-</h5>"
   ]
  },
  {
   "cell_type": "code",
   "execution_count": 115,
   "metadata": {
    "id": "qbsinDTwVtAN"
   },
   "outputs": [],
   "source": [
    "root_shell1, root_shell2 = feature_scaling(X_train, X_test, 'root_shell')"
   ]
  },
  {
   "cell_type": "code",
   "execution_count": 117,
   "metadata": {
    "colab": {
     "base_uri": "https://localhost:8080/"
    },
    "id": "9oujBLI8VtAN",
    "outputId": "c65ced07-78c1-44df-8323-ae247e974d65"
   },
   "outputs": [
    {
     "data": {
      "text/plain": [
       "array([-0.05122544])"
      ]
     },
     "execution_count": 117,
     "metadata": {},
     "output_type": "execute_result"
    }
   ],
   "source": [
    "root_shell1[1]"
   ]
  },
  {
   "cell_type": "markdown",
   "metadata": {
    "id": "gtLpHw8FVtAN"
   },
   "source": [
    "<h5>su_attempted :-</h5>"
   ]
  },
  {
   "cell_type": "code",
   "execution_count": 120,
   "metadata": {
    "id": "kZ6PdSi6VtAN"
   },
   "outputs": [],
   "source": [
    "su_attempted1, su_attempted2 = feature_scaling(X_train, X_test, 'su_attempted')"
   ]
  },
  {
   "cell_type": "code",
   "execution_count": 122,
   "metadata": {
    "colab": {
     "base_uri": "https://localhost:8080/"
    },
    "id": "vvIvS5K5VtAN",
    "outputId": "607b4934-3488-45fe-90d4-08d5dfe0bdc8"
   },
   "outputs": [
    {
     "data": {
      "text/plain": [
       "array([-0.01463484])"
      ]
     },
     "execution_count": 122,
     "metadata": {},
     "output_type": "execute_result"
    }
   ],
   "source": [
    "su_attempted1[1]"
   ]
  },
  {
   "cell_type": "markdown",
   "metadata": {
    "id": "VoQsi-3LVtAN"
   },
   "source": [
    "<h5>num_root:-</h5>"
   ]
  },
  {
   "cell_type": "code",
   "execution_count": 125,
   "metadata": {
    "id": "SJPaQLh3VtAN"
   },
   "outputs": [],
   "source": [
    "num_root1, num_root2 = feature_scaling(X_train, X_test, 'num_root')"
   ]
  },
  {
   "cell_type": "code",
   "execution_count": 127,
   "metadata": {
    "colab": {
     "base_uri": "https://localhost:8080/"
    },
    "id": "5YFp4Sg4VtAN",
    "outputId": "0f923c46-f136-43f4-8980-dcb868ac44bc"
   },
   "outputs": [
    {
     "data": {
      "text/plain": [
       "array([-0.01591261])"
      ]
     },
     "execution_count": 127,
     "metadata": {},
     "output_type": "execute_result"
    }
   ],
   "source": [
    "num_root1[1]"
   ]
  },
  {
   "cell_type": "markdown",
   "metadata": {
    "id": "WD1Jw6R8VtAN"
   },
   "source": [
    "<h5>num_file_creations:-</h5>"
   ]
  },
  {
   "cell_type": "code",
   "execution_count": 130,
   "metadata": {
    "id": "XUZjoeGnVtAO"
   },
   "outputs": [],
   "source": [
    "num_file_creations1, num_file_creations2 = feature_scaling(X_train, X_test, 'num_file_creations')"
   ]
  },
  {
   "cell_type": "code",
   "execution_count": 132,
   "metadata": {
    "colab": {
     "base_uri": "https://localhost:8080/"
    },
    "id": "Hd6GAoGJVtAO",
    "outputId": "98d0c6c9-31d2-4385-a46d-6673d53644eb"
   },
   "outputs": [
    {
     "data": {
      "text/plain": [
       "array([-0.04010166])"
      ]
     },
     "execution_count": 132,
     "metadata": {},
     "output_type": "execute_result"
    }
   ],
   "source": [
    "num_file_creations1[1]"
   ]
  },
  {
   "cell_type": "markdown",
   "metadata": {
    "id": "hTSc9JSJVtAO"
   },
   "source": [
    "<h5>num_shells:-</h5>"
   ]
  },
  {
   "cell_type": "code",
   "execution_count": 135,
   "metadata": {
    "id": "65RL-xgAVtAO"
   },
   "outputs": [],
   "source": [
    "num_shells1, num_shells2 = feature_scaling(X_train, X_test, 'num_shells')"
   ]
  },
  {
   "cell_type": "code",
   "execution_count": 137,
   "metadata": {
    "colab": {
     "base_uri": "https://localhost:8080/"
    },
    "id": "kTP82IzZVtAO",
    "outputId": "2a870cb1-a238-4783-d6b1-f42930a76220"
   },
   "outputs": [
    {
     "data": {
      "text/plain": [
       "array([-0.02931977])"
      ]
     },
     "execution_count": 137,
     "metadata": {},
     "output_type": "execute_result"
    }
   ],
   "source": [
    "num_shells1[1]"
   ]
  },
  {
   "cell_type": "markdown",
   "metadata": {
    "id": "SH6cSuFvVtAO"
   },
   "source": [
    "<h5>num_access_files:-</h5>"
   ]
  },
  {
   "cell_type": "code",
   "execution_count": 140,
   "metadata": {
    "id": "5vI06h0UVtAO"
   },
   "outputs": [],
   "source": [
    "num_access_files1, num_access_files2 = feature_scaling(X_train, X_test, 'num_access_files')"
   ]
  },
  {
   "cell_type": "code",
   "execution_count": 142,
   "metadata": {
    "colab": {
     "base_uri": "https://localhost:8080/"
    },
    "id": "4JHVm43mVtAO",
    "outputId": "891cbbb9-6b63-4046-d6ea-a851bf1d6ca4"
   },
   "outputs": [
    {
     "data": {
      "text/plain": [
       "array([-0.05216285])"
      ]
     },
     "execution_count": 142,
     "metadata": {},
     "output_type": "execute_result"
    }
   ],
   "source": [
    "num_access_files1[1]"
   ]
  },
  {
   "cell_type": "markdown",
   "metadata": {
    "id": "qudsVXpIVtAO"
   },
   "source": [
    "<h5>num_outbound_cmds:-</h5>"
   ]
  },
  {
   "cell_type": "code",
   "execution_count": 145,
   "metadata": {
    "colab": {
     "base_uri": "https://localhost:8080/"
    },
    "id": "D4W9f0pFVtAO",
    "outputId": "4cb27adf-b7c3-4edc-bc81-561828278095"
   },
   "outputs": [
    {
     "data": {
      "text/plain": [
       "num_outbound_cmds\n",
       "0    22416\n",
       "Name: count, dtype: int64"
      ]
     },
     "execution_count": 145,
     "metadata": {},
     "output_type": "execute_result"
    }
   ],
   "source": [
    "data['num_outbound_cmds'].value_counts()"
   ]
  },
  {
   "cell_type": "markdown",
   "metadata": {
    "id": "Qu_NY6kDVtAO"
   },
   "source": [
    "  <h5>- We will not use 'num_outbound_cmds' feature as it has all zero values.</h5>"
   ]
  },
  {
   "cell_type": "markdown",
   "metadata": {
    "id": "a0npyTXWVtAO"
   },
   "source": [
    "<h5>srv_count:-</h5>"
   ]
  },
  {
   "cell_type": "code",
   "execution_count": 149,
   "metadata": {
    "id": "REQDuNYoVtAP"
   },
   "outputs": [],
   "source": [
    "srv_count1, srv_count2 = feature_scaling(X_train, X_test, 'srv_count')"
   ]
  },
  {
   "cell_type": "code",
   "execution_count": 151,
   "metadata": {
    "colab": {
     "base_uri": "https://localhost:8080/"
    },
    "id": "fhsW_GsXVtAP",
    "outputId": "c689ad54-c5d6-4191-93c6-8a0fe733d367"
   },
   "outputs": [
    {
     "data": {
      "text/plain": [
       "array([-0.33966231])"
      ]
     },
     "execution_count": 151,
     "metadata": {},
     "output_type": "execute_result"
    }
   ],
   "source": [
    "srv_count1[1]"
   ]
  },
  {
   "cell_type": "markdown",
   "metadata": {
    "id": "TYMgVodzVtAP"
   },
   "source": [
    "<h5>serror_rate:-</h5>"
   ]
  },
  {
   "cell_type": "code",
   "execution_count": 154,
   "metadata": {
    "id": "cXoXdmFRVtAP"
   },
   "outputs": [],
   "source": [
    "serror_rate1, serror_rate2 = feature_scaling(X_train, X_test, 'serror_rate')"
   ]
  },
  {
   "cell_type": "code",
   "execution_count": 156,
   "metadata": {
    "colab": {
     "base_uri": "https://localhost:8080/"
    },
    "id": "EAGKLEZdVtAP",
    "outputId": "e5e7b327-7bde-4de3-8761-2ab1cc9af60a"
   },
   "outputs": [
    {
     "data": {
      "text/plain": [
       "array([-0.18326628])"
      ]
     },
     "execution_count": 156,
     "metadata": {},
     "output_type": "execute_result"
    }
   ],
   "source": [
    "serror_rate1[1]"
   ]
  },
  {
   "cell_type": "markdown",
   "metadata": {
    "id": "E6whoOZNVtAP"
   },
   "source": [
    "<h5>srv_serror_rate:-</h5>"
   ]
  },
  {
   "cell_type": "code",
   "execution_count": 159,
   "metadata": {
    "id": "05mjlIM_VtAP"
   },
   "outputs": [],
   "source": [
    "srv_serror_rate1, srv_serror_rate2 = feature_scaling(X_train, X_test, 'srv_serror_rate')"
   ]
  },
  {
   "cell_type": "code",
   "execution_count": 161,
   "metadata": {
    "colab": {
     "base_uri": "https://localhost:8080/"
    },
    "id": "VuQox5vIVtAP",
    "outputId": "0911ad53-9dfc-413f-a464-d7b832bc3f04"
   },
   "outputs": [
    {
     "data": {
      "text/plain": [
       "array([-0.35016207])"
      ]
     },
     "execution_count": 161,
     "metadata": {},
     "output_type": "execute_result"
    }
   ],
   "source": [
    "srv_serror_rate1[1]"
   ]
  },
  {
   "cell_type": "markdown",
   "metadata": {
    "id": "KcZpJvZ3VtAP"
   },
   "source": [
    "<h5>rerror_rate:-</h5>"
   ]
  },
  {
   "cell_type": "code",
   "execution_count": 164,
   "metadata": {
    "id": "nnKxPv-dVtAP"
   },
   "outputs": [],
   "source": [
    "rerror_rate1, rerror_rate2 = feature_scaling(X_train, X_test, 'rerror_rate')"
   ]
  },
  {
   "cell_type": "code",
   "execution_count": 166,
   "metadata": {
    "colab": {
     "base_uri": "https://localhost:8080/"
    },
    "id": "i1agfMGSVtAQ",
    "outputId": "8ef491d8-2dd4-464d-e48a-9ba1cb9fe392"
   },
   "outputs": [
    {
     "data": {
      "text/plain": [
       "array([1.69623493])"
      ]
     },
     "execution_count": 166,
     "metadata": {},
     "output_type": "execute_result"
    }
   ],
   "source": [
    "rerror_rate1[1]"
   ]
  },
  {
   "cell_type": "markdown",
   "metadata": {
    "id": "XQK1ynOBVtAQ"
   },
   "source": [
    "<h5>srv_rerror_rate :-</h5>"
   ]
  },
  {
   "cell_type": "code",
   "execution_count": 169,
   "metadata": {
    "id": "B1zRLWsiVtAQ"
   },
   "outputs": [],
   "source": [
    "srv_rerror_rate1, srv_rerror_rate2 = feature_scaling(X_train, X_test, 'srv_rerror_rate')"
   ]
  },
  {
   "cell_type": "code",
   "execution_count": 171,
   "metadata": {
    "colab": {
     "base_uri": "https://localhost:8080/"
    },
    "id": "BfTshtcGVtAQ",
    "outputId": "921109eb-0d90-448d-c049-eead696d39df"
   },
   "outputs": [
    {
     "data": {
      "text/plain": [
       "array([1.8218438])"
      ]
     },
     "execution_count": 171,
     "metadata": {},
     "output_type": "execute_result"
    }
   ],
   "source": [
    "srv_rerror_rate1[1]"
   ]
  },
  {
   "cell_type": "markdown",
   "metadata": {
    "id": "_YOokJmMVtAQ"
   },
   "source": [
    "<h5>same_srv_rate:-</h5>"
   ]
  },
  {
   "cell_type": "code",
   "execution_count": 174,
   "metadata": {
    "id": "JW49seJwVtAQ"
   },
   "outputs": [],
   "source": [
    "same_srv_rate1, same_srv_rate2 = feature_scaling(X_train, X_test, 'same_srv_rate')"
   ]
  },
  {
   "cell_type": "code",
   "execution_count": 176,
   "metadata": {
    "colab": {
     "base_uri": "https://localhost:8080/"
    },
    "id": "nRh0jdPLVtAQ",
    "outputId": "e56d1bd1-f182-41bc-90b8-0d38023bf88f"
   },
   "outputs": [
    {
     "data": {
      "text/plain": [
       "array([-1.78209997])"
      ]
     },
     "execution_count": 176,
     "metadata": {},
     "output_type": "execute_result"
    }
   ],
   "source": [
    "same_srv_rate1[1]"
   ]
  },
  {
   "cell_type": "markdown",
   "metadata": {
    "id": "XUserIDaVtAQ"
   },
   "source": [
    "<h5>diff_srv_rate:-</h5>"
   ]
  },
  {
   "cell_type": "code",
   "execution_count": 179,
   "metadata": {
    "id": "eRVipGTMVtAQ"
   },
   "outputs": [],
   "source": [
    "diff_srv_rate1, diff_srv_rate2 = feature_scaling(X_train, X_test, 'diff_srv_rate')"
   ]
  },
  {
   "cell_type": "code",
   "execution_count": 181,
   "metadata": {
    "colab": {
     "base_uri": "https://localhost:8080/"
    },
    "id": "kKBEHjYsVtAQ",
    "outputId": "97d3b8a9-d939-4fa2-e209-54a42ec8b861"
   },
   "outputs": [
    {
     "data": {
      "text/plain": [
       "array([3.4533732])"
      ]
     },
     "execution_count": 181,
     "metadata": {},
     "output_type": "execute_result"
    }
   ],
   "source": [
    "diff_srv_rate1[1]"
   ]
  },
  {
   "cell_type": "markdown",
   "metadata": {
    "id": "sULKor4BVtAQ"
   },
   "source": [
    "<h5>srv_diff_host_rate:-</h5>"
   ]
  },
  {
   "cell_type": "code",
   "execution_count": 184,
   "metadata": {
    "id": "sSVjLC36VtAR"
   },
   "outputs": [],
   "source": [
    "srv_diff_host_rate1, srv_diff_host_rate2 = feature_scaling(X_train, X_test, 'srv_diff_host_rate')"
   ]
  },
  {
   "cell_type": "code",
   "execution_count": 186,
   "metadata": {
    "colab": {
     "base_uri": "https://localhost:8080/"
    },
    "id": "fGx36qyfVtAR",
    "outputId": "c5f02f87-b948-454f-ca37-9f70b921780f"
   },
   "outputs": [
    {
     "data": {
      "text/plain": [
       "array([-0.38880061])"
      ]
     },
     "execution_count": 186,
     "metadata": {},
     "output_type": "execute_result"
    }
   ],
   "source": [
    "srv_diff_host_rate1[1]"
   ]
  },
  {
   "cell_type": "markdown",
   "metadata": {
    "id": "PWQF1l8NVtAR"
   },
   "source": [
    "<h5>dst_host_count:-</h5>"
   ]
  },
  {
   "cell_type": "code",
   "execution_count": 189,
   "metadata": {
    "id": "gogcihd7VtAR"
   },
   "outputs": [],
   "source": [
    "dst_host_count1, dst_host_count2 = feature_scaling(X_train, X_test, 'dst_host_count')"
   ]
  },
  {
   "cell_type": "code",
   "execution_count": 191,
   "metadata": {
    "colab": {
     "base_uri": "https://localhost:8080/"
    },
    "id": "nOA-xNOgVtAR",
    "outputId": "4d063fb0-0194-48c3-b284-4b3ceaaffd4a"
   },
   "outputs": [
    {
     "data": {
      "text/plain": [
       "array([0.6517445])"
      ]
     },
     "execution_count": 191,
     "metadata": {},
     "output_type": "execute_result"
    }
   ],
   "source": [
    "dst_host_count1[1]"
   ]
  },
  {
   "cell_type": "markdown",
   "metadata": {
    "id": "xFfhOBZMVtAR"
   },
   "source": [
    "<h5>dst_host_srv_count:-</h5>"
   ]
  },
  {
   "cell_type": "code",
   "execution_count": 194,
   "metadata": {
    "id": "4HbN3ihSVtAR"
   },
   "outputs": [],
   "source": [
    "dst_host_srv_count1, dst_host_srv_count2 = feature_scaling(X_train, X_test, 'dst_host_srv_count')"
   ]
  },
  {
   "cell_type": "code",
   "execution_count": 195,
   "metadata": {
    "colab": {
     "base_uri": "https://localhost:8080/"
    },
    "id": "HSngGA1GVtAS",
    "outputId": "0c9e57c5-2ca4-4bb1-cd7c-4c710bdda546"
   },
   "outputs": [
    {
     "data": {
      "text/plain": [
       "array([-1.24143169])"
      ]
     },
     "execution_count": 195,
     "metadata": {},
     "output_type": "execute_result"
    }
   ],
   "source": [
    "dst_host_srv_count1[1]"
   ]
  },
  {
   "cell_type": "markdown",
   "metadata": {
    "id": "GPkhFgXXVtAS"
   },
   "source": [
    "<h5>dst_host_same_srv_rate:-</h5>"
   ]
  },
  {
   "cell_type": "code",
   "execution_count": 199,
   "metadata": {
    "id": "RJssu3aAVtAS"
   },
   "outputs": [],
   "source": [
    "dst_host_same_srv_rate1, dst_host_same_srv_rate2= feature_scaling(X_train, X_test, 'dst_host_same_srv_rate')"
   ]
  },
  {
   "cell_type": "code",
   "execution_count": 201,
   "metadata": {
    "colab": {
     "base_uri": "https://localhost:8080/"
    },
    "id": "QPQordCZVtAS",
    "outputId": "85db53c8-a447-4e94-8ef3-d21963db5c33"
   },
   "outputs": [
    {
     "data": {
      "text/plain": [
       "array([-1.38626575])"
      ]
     },
     "execution_count": 201,
     "metadata": {},
     "output_type": "execute_result"
    }
   ],
   "source": [
    "dst_host_same_srv_rate1[1]"
   ]
  },
  {
   "cell_type": "markdown",
   "metadata": {
    "id": "jEhrf_C2VtAS"
   },
   "source": [
    "<h5>dst_host_diff_srv_rate:-</h5>"
   ]
  },
  {
   "cell_type": "code",
   "execution_count": 204,
   "metadata": {
    "id": "zNCmnbbqVtAS"
   },
   "outputs": [],
   "source": [
    "dst_host_diff_srv_rate1, dst_host_diff_srv_rate2 = feature_scaling(X_train, X_test, 'dst_host_diff_srv_rate')"
   ]
  },
  {
   "cell_type": "code",
   "execution_count": 206,
   "metadata": {
    "colab": {
     "base_uri": "https://localhost:8080/"
    },
    "id": "z1jP6cAmVtAS",
    "outputId": "681650f4-b612-4936-9596-633683d07fe5"
   },
   "outputs": [
    {
     "data": {
      "text/plain": [
       "array([4.07020546])"
      ]
     },
     "execution_count": 206,
     "metadata": {},
     "output_type": "execute_result"
    }
   ],
   "source": [
    "dst_host_diff_srv_rate1[1]"
   ]
  },
  {
   "cell_type": "markdown",
   "metadata": {
    "id": "ejGvkhFOVtAT"
   },
   "source": [
    "<h5>dst_host_same_src_port_rate:-</h5>"
   ]
  },
  {
   "cell_type": "code",
   "execution_count": 209,
   "metadata": {
    "id": "_bl6Fx7XVtAT"
   },
   "outputs": [],
   "source": [
    "dst_host_same_src_port_rate1, dst_host_same_src_port_rate2 = feature_scaling(X_train, X_test, 'dst_host_same_src_port_rate')"
   ]
  },
  {
   "cell_type": "code",
   "execution_count": 211,
   "metadata": {
    "colab": {
     "base_uri": "https://localhost:8080/"
    },
    "id": "fiQBFMpYVtAT",
    "outputId": "a3bf2001-d03a-4766-b7f0-7e9ea978a84a"
   },
   "outputs": [
    {
     "data": {
      "text/plain": [
       "array([-0.40220939])"
      ]
     },
     "execution_count": 211,
     "metadata": {},
     "output_type": "execute_result"
    }
   ],
   "source": [
    "dst_host_same_src_port_rate1[1]"
   ]
  },
  {
   "cell_type": "markdown",
   "metadata": {
    "id": "JsI6vusLVtAT"
   },
   "source": [
    "<h5>dst_host_srv_diff_host_rate:-</h5>"
   ]
  },
  {
   "cell_type": "code",
   "execution_count": 214,
   "metadata": {
    "id": "JvRHMxrzVtAT"
   },
   "outputs": [],
   "source": [
    "dst_host_srv_diff_host_rate1, dst_host_srv_diff_host_rate2 = feature_scaling(X_train, X_test, 'dst_host_srv_diff_host_rate')"
   ]
  },
  {
   "cell_type": "code",
   "execution_count": 216,
   "metadata": {
    "colab": {
     "base_uri": "https://localhost:8080/"
    },
    "id": "eLLuNv9VVtAT",
    "outputId": "2fb4b496-00bb-4e39-c85c-2134945d73ba"
   },
   "outputs": [
    {
     "data": {
      "text/plain": [
       "array([-0.23096849])"
      ]
     },
     "execution_count": 216,
     "metadata": {},
     "output_type": "execute_result"
    }
   ],
   "source": [
    "dst_host_srv_diff_host_rate1[1]"
   ]
  },
  {
   "cell_type": "markdown",
   "metadata": {
    "id": "TOxdKZSIVtAT"
   },
   "source": [
    "<h5>dst_host_serror_rate:-</h5>"
   ]
  },
  {
   "cell_type": "code",
   "execution_count": 219,
   "metadata": {
    "id": "SCREhcj0VtAU"
   },
   "outputs": [],
   "source": [
    "dst_host_serror_rate1, dst_host_serror_rate2 = feature_scaling(X_train, X_test, 'dst_host_serror_rate')"
   ]
  },
  {
   "cell_type": "code",
   "execution_count": 221,
   "metadata": {
    "colab": {
     "base_uri": "https://localhost:8080/"
    },
    "id": "_yayfK_8VtAU",
    "outputId": "54f52c4a-7fc6-4832-a3ee-90c3842e6539"
   },
   "outputs": [
    {
     "data": {
      "text/plain": [
       "array([-0.13944589])"
      ]
     },
     "execution_count": 221,
     "metadata": {},
     "output_type": "execute_result"
    }
   ],
   "source": [
    "dst_host_serror_rate1[1]"
   ]
  },
  {
   "cell_type": "markdown",
   "metadata": {
    "id": "YUr5ltrDVtAU"
   },
   "source": [
    "<h5>dst_host_srv_serror_rate:-</h5>"
   ]
  },
  {
   "cell_type": "code",
   "execution_count": 224,
   "metadata": {
    "id": "X4kyRYtDVtAV"
   },
   "outputs": [],
   "source": [
    "dst_host_srv_serror_rate1, dst_host_srv_serror_rate2 = feature_scaling(X_train, X_test, 'dst_host_srv_serror_rate')"
   ]
  },
  {
   "cell_type": "code",
   "execution_count": 226,
   "metadata": {
    "colab": {
     "base_uri": "https://localhost:8080/"
    },
    "id": "mhNZLEWkVtAV",
    "outputId": "6896a058-080f-4071-d510-dcf16f55d883"
   },
   "outputs": [
    {
     "data": {
      "text/plain": [
       "array([-0.35288868])"
      ]
     },
     "execution_count": 226,
     "metadata": {},
     "output_type": "execute_result"
    }
   ],
   "source": [
    "dst_host_srv_serror_rate1[1]"
   ]
  },
  {
   "cell_type": "markdown",
   "metadata": {
    "id": "QIM0XR1BVtAV"
   },
   "source": [
    "<h5>dst_host_rerror_rate:-</h5>"
   ]
  },
  {
   "cell_type": "code",
   "execution_count": 229,
   "metadata": {
    "id": "wStBG6DqVtAV"
   },
   "outputs": [],
   "source": [
    "dst_host_rerror_rate1, dst_host_rerror_rate2 = feature_scaling(X_train, X_test, 'dst_host_rerror_rate')"
   ]
  },
  {
   "cell_type": "code",
   "execution_count": 231,
   "metadata": {
    "colab": {
     "base_uri": "https://localhost:8080/"
    },
    "id": "1pEKEJsZVtAV",
    "outputId": "ab8373b8-3399-4e54-b68b-44e66ed072fd"
   },
   "outputs": [
    {
     "data": {
      "text/plain": [
       "array([1.81051067])"
      ]
     },
     "execution_count": 231,
     "metadata": {},
     "output_type": "execute_result"
    }
   ],
   "source": [
    "dst_host_rerror_rate1[1]"
   ]
  },
  {
   "cell_type": "markdown",
   "metadata": {
    "id": "zmeFltGlVtAW"
   },
   "source": [
    "<h5>dst_host_srv_rerror_rate:-</h5>"
   ]
  },
  {
   "cell_type": "code",
   "execution_count": 234,
   "metadata": {
    "id": "QYKLJEIBVtAW"
   },
   "outputs": [],
   "source": [
    "dst_host_srv_rerror_rate1, dst_host_srv_rerror_rate2 = feature_scaling(X_train, X_test, 'dst_host_srv_rerror_rate')"
   ]
  },
  {
   "cell_type": "code",
   "execution_count": 236,
   "metadata": {
    "colab": {
     "base_uri": "https://localhost:8080/"
    },
    "id": "7akqAklRVtAW",
    "outputId": "6dffab29-743f-4398-e938-a46fb8b1ddc2"
   },
   "outputs": [
    {
     "data": {
      "text/plain": [
       "array([1.90999103])"
      ]
     },
     "execution_count": 236,
     "metadata": {},
     "output_type": "execute_result"
    }
   ],
   "source": [
    "dst_host_srv_rerror_rate1[1]"
   ]
  },
  {
   "cell_type": "markdown",
   "metadata": {
    "id": "93o91ilWVtAW"
   },
   "source": [
    "<h5>num_failed_logins :-</h5>"
   ]
  },
  {
   "cell_type": "code",
   "execution_count": 239,
   "metadata": {
    "id": "YBLKIFHuVtAW"
   },
   "outputs": [],
   "source": [
    "num_failed_logins1, num_failed_logins2 = feature_scaling(X_train, X_test, 'num_failed_logins')"
   ]
  },
  {
   "cell_type": "code",
   "execution_count": 241,
   "metadata": {
    "colab": {
     "base_uri": "https://localhost:8080/"
    },
    "id": "n5AqgNnfVtAW",
    "outputId": "e5fef8b6-ad08-46ab-cd27-47673b8e08ab"
   },
   "outputs": [
    {
     "data": {
      "text/plain": [
       "array([-0.1431444])"
      ]
     },
     "execution_count": 241,
     "metadata": {},
     "output_type": "execute_result"
    }
   ],
   "source": [
    "num_failed_logins1[1]"
   ]
  },
  {
   "cell_type": "markdown",
   "metadata": {
    "id": "32hTd6H8VtAW"
   },
   "source": [
    "<h5>land:-</h5>"
   ]
  },
  {
   "cell_type": "code",
   "execution_count": 244,
   "metadata": {
    "id": "kvEs9YXUVtAW"
   },
   "outputs": [],
   "source": [
    "land1, land2 = np.array([X_train['land'].values]), np.array([X_test['land'].values])"
   ]
  },
  {
   "cell_type": "code",
   "execution_count": 246,
   "metadata": {
    "colab": {
     "base_uri": "https://localhost:8080/"
    },
    "id": "WTfP8BYHVtAX",
    "outputId": "c4a012b2-3856-4c8e-912b-7ef305e20045"
   },
   "outputs": [
    {
     "data": {
      "text/plain": [
       "(1, 16812)"
      ]
     },
     "execution_count": 246,
     "metadata": {},
     "output_type": "execute_result"
    }
   ],
   "source": [
    "land1.shape"
   ]
  },
  {
   "cell_type": "markdown",
   "metadata": {
    "id": "GQIIa1b3VtAX"
   },
   "source": [
    "<h5>is_host_login :-</h5>"
   ]
  },
  {
   "cell_type": "code",
   "execution_count": 249,
   "metadata": {
    "id": "Et8jdvirVtAX"
   },
   "outputs": [],
   "source": [
    "is_host_login1, is_host_login2 = np.array([X_train['is_host_login'].values]), np.array([X_test['is_host_login'].values])"
   ]
  },
  {
   "cell_type": "code",
   "execution_count": 251,
   "metadata": {
    "colab": {
     "base_uri": "https://localhost:8080/"
    },
    "id": "2XjL1xLsVtAX",
    "outputId": "1ad20104-1dd4-4d13-e331-273d8f028ff1"
   },
   "outputs": [
    {
     "data": {
      "text/plain": [
       "(1, 16812)"
      ]
     },
     "execution_count": 251,
     "metadata": {},
     "output_type": "execute_result"
    }
   ],
   "source": [
    "is_host_login1.shape"
   ]
  },
  {
   "cell_type": "markdown",
   "metadata": {
    "id": "VvTnTGw6VtAX"
   },
   "source": [
    "<h5>is_guest_login :-</h5>"
   ]
  },
  {
   "cell_type": "code",
   "execution_count": 254,
   "metadata": {
    "id": "smrRIzWzVtAX"
   },
   "outputs": [],
   "source": [
    "is_guest_login1, is_guest_login2 = np.array([X_train['is_guest_login'].values]), np.array([X_test['is_guest_login'].values])"
   ]
  },
  {
   "cell_type": "code",
   "execution_count": 256,
   "metadata": {
    "colab": {
     "base_uri": "https://localhost:8080/"
    },
    "id": "vjOAy3RlVtAX",
    "outputId": "357edd84-21b4-4621-ad63-9c0cb5b05636"
   },
   "outputs": [
    {
     "data": {
      "text/plain": [
       "(1, 16812)"
      ]
     },
     "execution_count": 256,
     "metadata": {},
     "output_type": "execute_result"
    }
   ],
   "source": [
    "is_guest_login1.shape"
   ]
  },
  {
   "cell_type": "markdown",
   "metadata": {
    "id": "Ls5wVZQSVtAX"
   },
   "source": [
    "<h5>logged_in :-</h5>"
   ]
  },
  {
   "cell_type": "code",
   "execution_count": 259,
   "metadata": {
    "id": "eMdKlNZIVtAX"
   },
   "outputs": [],
   "source": [
    "logged_in1, logged_in2 = np.array([X_train['logged_in'].values]), np.array([X_test['logged_in'].values])"
   ]
  },
  {
   "cell_type": "code",
   "execution_count": 261,
   "metadata": {
    "colab": {
     "base_uri": "https://localhost:8080/"
    },
    "id": "uFkB6KwJVtAX",
    "outputId": "b08fb13f-6d48-4754-8a48-85676fb7b419"
   },
   "outputs": [
    {
     "data": {
      "text/plain": [
       "(1, 16812)"
      ]
     },
     "execution_count": 261,
     "metadata": {},
     "output_type": "execute_result"
    }
   ],
   "source": [
    "logged_in1.shape"
   ]
  },
  {
   "cell_type": "markdown",
   "metadata": {
    "id": "UxvQU9_lVtAY"
   },
   "source": [
    "<h5>count:-</h5>"
   ]
  },
  {
   "cell_type": "code",
   "execution_count": 264,
   "metadata": {
    "id": "siBfFtfMVtAY"
   },
   "outputs": [],
   "source": [
    "count1, count2 = feature_scaling(X_train, X_test, 'count')"
   ]
  },
  {
   "cell_type": "code",
   "execution_count": 266,
   "metadata": {
    "colab": {
     "base_uri": "https://localhost:8080/"
    },
    "id": "mk9l9YYzVtAY",
    "outputId": "58321a7b-7e01-43c7-d3cd-db09a709ce14"
   },
   "outputs": [
    {
     "data": {
      "text/plain": [
       "array([2.72635356])"
      ]
     },
     "execution_count": 266,
     "metadata": {},
     "output_type": "execute_result"
    }
   ],
   "source": [
    "count1[1]"
   ]
  },
  {
   "cell_type": "markdown",
   "metadata": {
    "id": "tjr-kxOXVtAY"
   },
   "source": [
    "<h5>dst_host_diff_srv_rate:-</h5>"
   ]
  },
  {
   "cell_type": "code",
   "execution_count": 269,
   "metadata": {
    "id": "UEQxYmgvVtAZ"
   },
   "outputs": [],
   "source": [
    "dst_host_diff_srv_rate1, dst_host_diff_srv_rate2 = feature_scaling(X_train, X_test, 'dst_host_diff_srv_rate')"
   ]
  },
  {
   "cell_type": "code",
   "execution_count": 270,
   "metadata": {
    "colab": {
     "base_uri": "https://localhost:8080/"
    },
    "id": "Bp5lrSG8VtAZ",
    "outputId": "7363204c-5662-4ece-8c9e-ef9b8341267e"
   },
   "outputs": [
    {
     "data": {
      "text/plain": [
       "array([4.07020546])"
      ]
     },
     "execution_count": 270,
     "metadata": {},
     "output_type": "execute_result"
    }
   ],
   "source": [
    "dst_host_diff_srv_rate1[1]"
   ]
  },
  {
   "cell_type": "markdown",
   "metadata": {
    "id": "8dqmcPRMVtAZ"
   },
   "source": [
    "<h3> Merging categorical and continuous features:- </h3>"
   ]
  },
  {
   "cell_type": "markdown",
   "metadata": {
    "id": "BaS9x_SKGdTc"
   },
   "source": [
    "\n",
    "np.hstack is a NumPy function that horizontally stacks arrays. It concatenates the arrays along the second axis (axis index 1), which means it combines them side by side."
   ]
  },
  {
   "cell_type": "code",
   "execution_count": 274,
   "metadata": {
    "id": "I3y-22Q5VtAZ"
   },
   "outputs": [],
   "source": [
    "from scipy.sparse import hstack"
   ]
  },
  {
   "cell_type": "code",
   "execution_count": 275,
   "metadata": {
    "id": "h3W-TMJnVtAZ"
   },
   "outputs": [],
   "source": [
    "X_train_1 = hstack((duration1, train_protocol, train_service, train_flag, src_bytes1,\n",
    "       dst_bytes1, land1.T, wrong_fragment1, urgent1, hot1,\n",
    "       num_failed_logins1, logged_in1.T, num_compromised1, root_shell1,\n",
    "       su_attempted1, num_root1, num_file_creations1, num_shells1,\n",
    "       num_access_files1, is_host_login1.T,\n",
    "       is_guest_login1.T, count1, srv_count1, serror_rate1,\n",
    "       srv_serror_rate1, rerror_rate1, srv_rerror_rate1, same_srv_rate1,\n",
    "       diff_srv_rate1, srv_diff_host_rate1, dst_host_count1,\n",
    "       dst_host_srv_count1, dst_host_same_srv_rate1,\n",
    "       dst_host_diff_srv_rate1, dst_host_same_src_port_rate1,\n",
    "       dst_host_srv_diff_host_rate1, dst_host_serror_rate1,\n",
    "       dst_host_srv_serror_rate1, dst_host_rerror_rate1,\n",
    "       dst_host_srv_rerror_rate1))"
   ]
  },
  {
   "cell_type": "code",
   "execution_count": 276,
   "metadata": {
    "colab": {
     "base_uri": "https://localhost:8080/"
    },
    "id": "CP6Zit_LVtAZ",
    "outputId": "cec54314-fe46-4c34-effb-116836c548d7"
   },
   "outputs": [
    {
     "data": {
      "text/plain": [
       "(16812, 114)"
      ]
     },
     "execution_count": 276,
     "metadata": {},
     "output_type": "execute_result"
    }
   ],
   "source": [
    "X_train_1.shape"
   ]
  },
  {
   "cell_type": "code",
   "execution_count": 277,
   "metadata": {
    "id": "WozfhmRPVtAZ"
   },
   "outputs": [],
   "source": [
    "X_test_1 = hstack((duration2, test_protocol, test_service, test_flag, src_bytes2,\n",
    "       dst_bytes2, land2.T, wrong_fragment2, urgent2, hot2,\n",
    "       num_failed_logins2, logged_in2.T, num_compromised2, root_shell2,\n",
    "       su_attempted2, num_root2, num_file_creations2, num_shells2,\n",
    "       num_access_files2, is_host_login2.T,\n",
    "       is_guest_login2.T, count2, srv_count2, serror_rate2,\n",
    "       srv_serror_rate2, rerror_rate2, srv_rerror_rate2, same_srv_rate2,\n",
    "       diff_srv_rate2, srv_diff_host_rate2, dst_host_count2,\n",
    "       dst_host_srv_count2, dst_host_same_srv_rate2,\n",
    "       dst_host_diff_srv_rate2, dst_host_same_src_port_rate2,\n",
    "       dst_host_srv_diff_host_rate2, dst_host_serror_rate2,\n",
    "       dst_host_srv_serror_rate2, dst_host_rerror_rate2,\n",
    "       dst_host_srv_rerror_rate2))"
   ]
  },
  {
   "cell_type": "code",
   "execution_count": 278,
   "metadata": {
    "colab": {
     "base_uri": "https://localhost:8080/"
    },
    "id": "VRvJWVwXVtAZ",
    "outputId": "1d494cda-0926-4742-b465-7bf2fc8ad368"
   },
   "outputs": [
    {
     "data": {
      "text/plain": [
       "(5604, 114)"
      ]
     },
     "execution_count": 278,
     "metadata": {},
     "output_type": "execute_result"
    }
   ],
   "source": [
    "X_test_1.shape"
   ]
  },
  {
   "cell_type": "markdown",
   "metadata": {
    "id": "tZx7CFHMI9-F"
   },
   "source": [
    "\n",
    "joblib is a Python library that provides tools to create lightweight pipelining in Python. It is particularly designed for efficiently saving and loading large NumPy arrays, which can be crucial in machine learning and data-intensive applications. The library is often used for parallel processing and efficient memory management."
   ]
  },
  {
   "cell_type": "code",
   "execution_count": 286,
   "metadata": {
    "id": "6Y94_TAqVtAa"
   },
   "outputs": [],
   "source": [
    "import joblib\n",
    "joblib.dump(X_train_1,'X_train_1.pkl')\n",
    "joblib.dump(X_test_1,'X_test_1.pkl')\n",
    "X_train_1 = joblib.load('X_train_1.pkl')\n",
    "X_test_1 = joblib.load('X_test_1.pkl')"
   ]
  },
  {
   "cell_type": "code",
   "execution_count": 288,
   "metadata": {
    "id": "cIZGiH3DVtAa"
   },
   "outputs": [],
   "source": [
    "joblib.dump(Y_train,'Y_train.pkl')\n",
    "joblib.dump(Y_test,'Y_test.pkl')\n",
    "Y_train = joblib.load('Y_train.pkl')\n",
    "Y_test = joblib.load('Y_test.pkl')"
   ]
  },
  {
   "cell_type": "markdown",
   "metadata": {
    "id": "bgR6AoIMVtAa"
   },
   "source": [
    "<h3> Further Approach to our problem </h3>"
   ]
  },
  {
   "cell_type": "markdown",
   "metadata": {
    "id": "Z-GscXFqVtAa"
   },
   "source": [
    "- <h6> We will first apply below classifiers on our dataset and evaluate their performance: </h6>\n",
    "    \n",
    "    \n",
    "    1. Logistic Regression\n",
    "    2. Decision Tree\n",
    "    3. Random Forest\n",
    "   \n",
    "    \n",
    "    \n",
    "- <h6> Based on the performance metric scores we obtain from the above classifiers, we will apply below feature engineering techniques on our dataset to get additional features: </h6>\n",
    "    \n",
    "    \n",
    "  \n",
    "        \n",
    "        \n",
    "- <h6> We will then apply the best performing classifiers from dataset 1 on dataset 2 and evaluate their performance. </h6>"
   ]
  },
  {
   "cell_type": "markdown",
   "metadata": {
    "id": "CDWNHSjmVtAa"
   },
   "source": [
    "<h2> Applying Machine Algorithms:- </h2>"
   ]
  },
  {
   "cell_type": "markdown",
   "metadata": {
    "id": "ibQz8-kVVtAa"
   },
   "source": [
    "<h5> Utility Functions:- </h5>"
   ]
  },
  {
   "cell_type": "code",
   "execution_count": 366,
   "metadata": {
    "id": "F5ddga6BVtAa"
   },
   "outputs": [],
   "source": [
    "import datetime as dt\n",
    "from sklearn.metrics import accuracy_score, confusion_matrix, roc_auc_score, precision_score, recall_score, f1_score\n",
    "from sklearn.model_selection import GridSearchCV, RandomizedSearchCV\n"
   ]
  },
  {
   "cell_type": "code",
   "execution_count": 368,
   "metadata": {
    "id": "8w0jICitVtAa"
   },
   "outputs": [],
   "source": [
    "def confusion_matrix_func(Y_test, y_test_pred):\n",
    "    '''\n",
    "    This function plots the confusion matrix heatmap using the actual and predicted values.\n",
    "    '''\n",
    "    C = confusion_matrix(Y_test, y_test_pred)\n",
    "    cm_df = pd.DataFrame(C)\n",
    "    labels = ['back', 'butter_overflow', 'loadmodule', 'guess_passwd', 'imap', 'ipsweep', 'warezmaster', 'rootkit',\n",
    "              'multihop', 'neptune', 'nmap', 'normal', 'phf', 'perl', 'pod', 'portsweep', 'ftp_write', 'satan', 'smurf',\n",
    "              'teardrop', 'warezclient', 'land']\n",
    "    plt.figure(figsize=(20,15))\n",
    "    sns.set(font_scale=1.4)\n",
    "    sns.heatmap(cm_df, annot=True, annot_kws={\"size\":12}, fmt='g', xticklabels=labels, yticklabels=labels)\n",
    "    plt.ylabel('Actual Class')\n",
    "    plt.xlabel('Predicted Class')\n",
    "\n",
    "    plt.show()"
   ]
  },
  {
   "cell_type": "code",
   "execution_count": 370,
   "metadata": {
    "id": "re1YICEoVtAa"
   },
   "outputs": [],
   "source": [
    "def model(model_name, X_train, Y_train, X_test, Y_test):\n",
    "\n",
    "    '''\n",
    "    This function computes the performance scores on the train and test data.\n",
    "    '''\n",
    "\n",
    "    print('Fitting the model and prediction on train data:')\n",
    "    start = dt.datetime.now()\n",
    "    model_name.fit(X_train, Y_train)\n",
    "    y_tr_pred = model_name.predict(X_train)\n",
    "    print('Completed')\n",
    "    print('Time taken:',dt.datetime.now()-start)\n",
    "    print(' ')\n",
    "\n",
    "    results_tr = dict()\n",
    "    y_tr_pred = model_name.predict(X_train)\n",
    "    results_tr['precision'] = precision_score(Y_train, y_tr_pred, average='weighted')\n",
    "    results_tr['recall'] = recall_score(Y_train, y_tr_pred, average='weighted')\n",
    "    results_tr['f1_score'] = f1_score(Y_train, y_tr_pred, average='weighted')\n",
    "\n",
    "    results_test = dict()\n",
    "    print('Prediction on test data:')\n",
    "    start = dt.datetime.now()\n",
    "    y_test_pred = model_name.predict(X_test)\n",
    "    print('Completed')\n",
    "    print('Time taken:',dt.datetime.now()-start)\n",
    "    print(' ')\n",
    "\n",
    "    print('Performance metrics:')\n",
    "    print(' ')\n",
    "    print('Confusion Matrix is:')\n",
    "    confusion_matrix_func(Y_test, y_test_pred)\n",
    "    print(' ')\n",
    "    results_test['precision'] = precision_score(Y_test, y_test_pred, average='weighted')\n",
    "    print('Precision score is:')\n",
    "    print(precision_score(Y_test, y_test_pred, average='weighted'))\n",
    "    print(' ')\n",
    "    results_test['recall'] = recall_score(Y_test, y_test_pred, average='weighted')\n",
    "    print('Recall score is:')\n",
    "    print(recall_score(Y_test, y_test_pred, average='weighted'))\n",
    "    print(' ')\n",
    "    results_test['f1_score'] = f1_score(Y_test, y_test_pred, average='weighted')\n",
    "    print('F1-score is:')\n",
    "    print(f1_score(Y_test, y_test_pred, average='weighted'))\n",
    "    # add the trained  model to the results\n",
    "    results_test['model'] = model\n",
    "\n",
    "    return results_tr, results_test"
   ]
  },
  {
   "cell_type": "code",
   "execution_count": 372,
   "metadata": {
    "id": "iYX17IceVtAb"
   },
   "outputs": [],
   "source": [
    "def print_grid_search_attributes(model):\n",
    "\n",
    "    '''\n",
    "    This function prints all the grid search attributes\n",
    "    '''\n",
    "\n",
    "    print('---------------------------')\n",
    "    print('|      Best Estimator     |')\n",
    "    print('---------------------------')\n",
    "    print('\\n\\t{}\\n'.format(model.best_estimator_))\n",
    "\n",
    "\n",
    "    # parameters that gave best results while performing grid search\n",
    "    print('---------------------------')\n",
    "    print('|     Best parameters     |')\n",
    "    print('---------------------------')\n",
    "    print('\\tParameters of best estimator : \\n\\n\\t{}\\n'.format(model.best_params_))\n",
    "\n",
    "\n",
    "    #  number of cross validation splits\n",
    "    print('----------------------------------')\n",
    "    print('|   No of CrossValidation sets   |')\n",
    "    print('----------------------------------')\n",
    "    print('\\n\\tTotal numbre of cross validation sets: {}\\n'.format(model.n_splits_))\n",
    "\n",
    "\n",
    "    # Average cross validated score of the best estimator, from the Grid Search\n",
    "    print('---------------------------')\n",
    "    print('|        Best Score       |')\n",
    "    print('---------------------------')\n",
    "    print('\\n\\tAverage Cross Validate scores of best estimator : \\n\\n\\t{}\\n'.format(model.best_score_))"
   ]
  },
  {
   "cell_type": "markdown",
   "metadata": {
    "id": "QCjs3T5_VtAc"
   },
   "source": [
    "<h3> Model_1:- Logistic Regression </h3>"
   ]
  },
  {
   "cell_type": "markdown",
   "metadata": {
    "id": "MpoO3gyvL-K0"
   },
   "source": [
    "setting up a grid search for hyperparameter tuning for a logistic regression model using Stochastic Gradient Descent (SGD) as the optimization algorithm."
   ]
  },
  {
   "cell_type": "code",
   "execution_count": 376,
   "metadata": {
    "colab": {
     "base_uri": "https://localhost:8080/",
     "height": 931
    },
    "id": "PVbxnRHhVtAd",
    "outputId": "d43c7348-08df-4875-f16b-44e514d3f391"
   },
   "outputs": [
    {
     "name": "stdout",
     "output_type": "stream",
     "text": [
      "Fitting the model and prediction on train data:\n",
      "Fitting 5 folds for each of 14 candidates, totalling 70 fits\n"
     ]
    },
    {
     "name": "stderr",
     "output_type": "stream",
     "text": [
      "C:\\Users\\ncmre\\anaconda3\\Lib\\site-packages\\sklearn\\model_selection\\_split.py:776: UserWarning: The least populated class in y has only 1 members, which is less than n_splits=5.\n",
      "  warnings.warn(\n"
     ]
    },
    {
     "name": "stdout",
     "output_type": "stream",
     "text": [
      "Completed\n",
      "Time taken: 0:01:38.269746\n",
      " \n"
     ]
    },
    {
     "name": "stderr",
     "output_type": "stream",
     "text": [
      "C:\\Users\\ncmre\\anaconda3\\Lib\\site-packages\\sklearn\\metrics\\_classification.py:1531: UndefinedMetricWarning: Precision is ill-defined and being set to 0.0 in labels with no predicted samples. Use `zero_division` parameter to control this behavior.\n",
      "  _warn_prf(average, modifier, f\"{metric.capitalize()} is\", len(result))\n"
     ]
    },
    {
     "name": "stdout",
     "output_type": "stream",
     "text": [
      "Prediction on test data:\n",
      "Completed\n",
      "Time taken: 0:00:00.023781\n",
      " \n",
      "Performance metrics:\n",
      " \n",
      "Confusion Matrix is:\n"
     ]
    },
    {
     "data": {
      "image/png": "[encoded data removed]",
      "text/plain": [
       "<Figure size 2000x1500 with 2 Axes>"
      ]
     },
     "metadata": {},
     "output_type": "display_data"
    },
    {
     "name": "stdout",
     "output_type": "stream",
     "text": [
      " \n",
      "Precision score is:\n",
      "0.9531883123191673\n",
      " \n",
      "Recall score is:\n"
     ]
    },
    {
     "name": "stderr",
     "output_type": "stream",
     "text": [
      "C:\\Users\\ncmre\\anaconda3\\Lib\\site-packages\\sklearn\\metrics\\_classification.py:1531: UndefinedMetricWarning: Precision is ill-defined and being set to 0.0 in labels with no predicted samples. Use `zero_division` parameter to control this behavior.\n",
      "  _warn_prf(average, modifier, f\"{metric.capitalize()} is\", len(result))\n",
      "C:\\Users\\ncmre\\anaconda3\\Lib\\site-packages\\sklearn\\metrics\\_classification.py:1531: UndefinedMetricWarning: Precision is ill-defined and being set to 0.0 in labels with no predicted samples. Use `zero_division` parameter to control this behavior.\n",
      "  _warn_prf(average, modifier, f\"{metric.capitalize()} is\", len(result))\n",
      "C:\\Users\\ncmre\\anaconda3\\Lib\\site-packages\\sklearn\\metrics\\_classification.py:1531: UndefinedMetricWarning: Recall is ill-defined and being set to 0.0 in labels with no true samples. Use `zero_division` parameter to control this behavior.\n",
      "  _warn_prf(average, modifier, f\"{metric.capitalize()} is\", len(result))\n",
      "C:\\Users\\ncmre\\anaconda3\\Lib\\site-packages\\sklearn\\metrics\\_classification.py:1531: UndefinedMetricWarning: Recall is ill-defined and being set to 0.0 in labels with no true samples. Use `zero_division` parameter to control this behavior.\n",
      "  _warn_prf(average, modifier, f\"{metric.capitalize()} is\", len(result))\n"
     ]
    },
    {
     "name": "stdout",
     "output_type": "stream",
     "text": [
      "0.954853675945753\n",
      " \n",
      "F1-score is:\n",
      "0.9495696060257889\n"
     ]
    }
   ],
   "source": [
    "hyperparameter = {'alpha': [0.001, 0.01, 0.1, 1, 10, 20, 30], 'penalty': ['l1', 'l2']}\n",
    "from sklearn.linear_model import SGDClassifier\n",
    "\n",
    "# Use 'log' or 'hinge' as the loss function, depending on your problem\n",
    "lr = SGDClassifier(loss='hinge')  # Change 'log' to 'hinge' or 'log' as needed\n",
    "\n",
    "lr_grid = GridSearchCV(lr, param_grid=hyperparameter, cv=5, verbose=1, n_jobs=-1)\n",
    "\n",
    "lr_grid_results_tr, lr_grid_results_test = model(lr_grid, X_train_1.toarray(), Y_train, X_test_1.toarray(), Y_test)\n"
   ]
  },
  {
   "cell_type": "code",
   "execution_count": 307,
   "metadata": {
    "colab": {
     "base_uri": "https://localhost:8080/"
    },
    "id": "z93Iie80VtAd",
    "outputId": "136310be-bbf0-432b-a8d4-bc531694b8a1"
   },
   "outputs": [
    {
     "name": "stdout",
     "output_type": "stream",
     "text": [
      "---------------------------\n",
      "|      Best Estimator     |\n",
      "---------------------------\n",
      "\n",
      "\tSGDClassifier(alpha=0.001, penalty='l1')\n",
      "\n",
      "---------------------------\n",
      "|     Best parameters     |\n",
      "---------------------------\n",
      "\tParameters of best estimator : \n",
      "\n",
      "\t{'alpha': 0.001, 'penalty': 'l1'}\n",
      "\n",
      "----------------------------------\n",
      "|   No of CrossValidation sets   |\n",
      "----------------------------------\n",
      "\n",
      "\tTotal numbre of cross validation sets: 5\n",
      "\n",
      "---------------------------\n",
      "|        Best Score       |\n",
      "---------------------------\n",
      "\n",
      "\tAverage Cross Validate scores of best estimator : \n",
      "\n",
      "\t0.9539022391377066\n",
      "\n"
     ]
    }
   ],
   "source": [
    "print_grid_search_attributes(lr_grid)"
   ]
  },
  {
   "cell_type": "code",
   "execution_count": 310,
   "metadata": {
    "colab": {
     "base_uri": "https://localhost:8080/"
    },
    "id": "kpLnYh0IVtAd",
    "outputId": "a4a59680-38a9-41d1-db55-4ad19d667d21"
   },
   "outputs": [
    {
     "data": {
      "text/plain": [
       "['lr_gs.pkl']"
      ]
     },
     "execution_count": 310,
     "metadata": {},
     "output_type": "execute_result"
    }
   ],
   "source": [
    "joblib.dump(lr_grid.best_estimator_, 'lr_gs.pkl')"
   ]
  },
  {
   "cell_type": "code",
   "execution_count": 312,
   "metadata": {
    "id": "iXZ1L2-UVtAd"
   },
   "outputs": [],
   "source": [
    "lr_gs = lr_grid.best_estimator_\n",
    "y_tr_pred = lr_gs.predict(X_train_1.toarray())\n",
    "y_test_pred = lr_gs.predict(X_test_1.toarray())\n",
    "tpr_fpr_train = tpr_fpr_func(Y_train, y_tr_pred)\n",
    "tpr_fpr_test = tpr_fpr_func(Y_test, y_test_pred)"
   ]
  },
  {
   "cell_type": "code",
   "execution_count": 314,
   "metadata": {
    "colab": {
     "base_uri": "https://localhost:8080/"
    },
    "id": "XkVoYVhIVtAd",
    "outputId": "72fde7a7-db8f-47cc-f8ac-d3c4385282c3"
   },
   "outputs": [
    {
     "data": {
      "text/plain": [
       "{'precision': 0.9463002120422936,\n",
       " 'recall': 0.9492624315964787,\n",
       " 'f1_score': 0.9464783032208016}"
      ]
     },
     "execution_count": 314,
     "metadata": {},
     "output_type": "execute_result"
    }
   ],
   "source": [
    "lr_grid_results_tr"
   ]
  },
  {
   "cell_type": "code",
   "execution_count": 316,
   "metadata": {
    "colab": {
     "base_uri": "https://localhost:8080/"
    },
    "id": "yJJHJOHfVtAd",
    "outputId": "588b15ea-37da-4289-b1a2-1773d8992281"
   },
   "outputs": [
    {
     "data": {
      "text/plain": [
       "{'tp': 0, 'tpr': 0.0, 'fp': 0, 'fpr': 0.0}"
      ]
     },
     "execution_count": 316,
     "metadata": {},
     "output_type": "execute_result"
    }
   ],
   "source": [
    "tpr_fpr_train"
   ]
  },
  {
   "cell_type": "code",
   "execution_count": 318,
   "metadata": {
    "colab": {
     "base_uri": "https://localhost:8080/"
    },
    "id": "EFUKyWo0VtAd",
    "outputId": "418a3819-6a18-4023-f170-445abdfb1730"
   },
   "outputs": [
    {
     "data": {
      "text/plain": [
       "{'precision': 0.9462764613647798,\n",
       " 'recall': 0.948429693076374,\n",
       " 'f1_score': 0.9464316621503147,\n",
       " 'model': <function __main__.model(model_name, X_train, Y_train, X_test, Y_test)>}"
      ]
     },
     "execution_count": 318,
     "metadata": {},
     "output_type": "execute_result"
    }
   ],
   "source": [
    "lr_grid_results_test"
   ]
  },
  {
   "cell_type": "code",
   "execution_count": 320,
   "metadata": {
    "colab": {
     "base_uri": "https://localhost:8080/"
    },
    "id": "y2w5hB_XVtAd",
    "outputId": "a75e5e34-cc2f-4bc7-fe9d-72474a7d6e8d"
   },
   "outputs": [
    {
     "data": {
      "text/plain": [
       "{'tp': 0, 'tpr': 0.0, 'fp': 0, 'fpr': 0.0}"
      ]
     },
     "execution_count": 320,
     "metadata": {},
     "output_type": "execute_result"
    }
   ],
   "source": [
    "tpr_fpr_test"
   ]
  },
  {
   "cell_type": "markdown",
   "metadata": {
    "id": "HaxWxJyDVtAf"
   },
   "source": [
    "<h3> Model_2 :- Decision Tree </h3>"
   ]
  },
  {
   "cell_type": "code",
   "execution_count": 323,
   "metadata": {
    "id": "vA4YeulmVtAf"
   },
   "outputs": [],
   "source": [
    "hyperparameter = {'max_depth':[5, 10, 20, 50, 100, 500], 'min_samples_split':[5, 10, 100, 500]}\n",
    "\n",
    "from sklearn.tree import DecisionTreeClassifier\n",
    "decision_tree = DecisionTreeClassifier(criterion='gini', splitter='best',class_weight='balanced')\n",
    "decision_tree_grid = GridSearchCV(decision_tree, param_grid=hyperparameter, cv=3, verbose=1, n_jobs=-1)"
   ]
  },
  {
   "cell_type": "code",
   "execution_count": 325,
   "metadata": {
    "colab": {
     "base_uri": "https://localhost:8080/",
     "height": 931
    },
    "id": "X-1W0czeVtAf",
    "outputId": "7770b90a-3726-41b8-dd3b-877972cc0188"
   },
   "outputs": [
    {
     "name": "stdout",
     "output_type": "stream",
     "text": [
      "Fitting the model and prediction on train data:\n",
      "Fitting 3 folds for each of 24 candidates, totalling 72 fits\n"
     ]
    },
    {
     "name": "stderr",
     "output_type": "stream",
     "text": [
      "C:\\Users\\ncmre\\anaconda3\\Lib\\site-packages\\sklearn\\model_selection\\_split.py:776: UserWarning: The least populated class in y has only 1 members, which is less than n_splits=3.\n",
      "  warnings.warn(\n"
     ]
    },
    {
     "name": "stdout",
     "output_type": "stream",
     "text": [
      "Completed\n",
      "Time taken: 0:00:11.300184\n",
      " \n",
      "Prediction on test data:\n",
      "Completed\n",
      "Time taken: 0:00:00.006900\n",
      " \n",
      "Performance metrics:\n",
      " \n",
      "Confusion Matrix is:\n"
     ]
    },
    {
     "data": {
      "image/png": "[encoded data removed]",
      "text/plain": [
       "<Figure size 2000x1500 with 2 Axes>"
      ]
     },
     "metadata": {},
     "output_type": "display_data"
    },
    {
     "name": "stdout",
     "output_type": "stream",
     "text": [
      " \n",
      "Precision score is:\n",
      "0.9867363756111065\n",
      " \n",
      "Recall score is:\n"
     ]
    },
    {
     "name": "stderr",
     "output_type": "stream",
     "text": [
      "C:\\Users\\ncmre\\anaconda3\\Lib\\site-packages\\sklearn\\metrics\\_classification.py:1531: UndefinedMetricWarning: Precision is ill-defined and being set to 0.0 in labels with no predicted samples. Use `zero_division` parameter to control this behavior.\n",
      "  _warn_prf(average, modifier, f\"{metric.capitalize()} is\", len(result))\n",
      "C:\\Users\\ncmre\\anaconda3\\Lib\\site-packages\\sklearn\\metrics\\_classification.py:1531: UndefinedMetricWarning: Precision is ill-defined and being set to 0.0 in labels with no predicted samples. Use `zero_division` parameter to control this behavior.\n",
      "  _warn_prf(average, modifier, f\"{metric.capitalize()} is\", len(result))\n",
      "C:\\Users\\ncmre\\anaconda3\\Lib\\site-packages\\sklearn\\metrics\\_classification.py:1531: UndefinedMetricWarning: Recall is ill-defined and being set to 0.0 in labels with no true samples. Use `zero_division` parameter to control this behavior.\n",
      "  _warn_prf(average, modifier, f\"{metric.capitalize()} is\", len(result))\n",
      "C:\\Users\\ncmre\\anaconda3\\Lib\\site-packages\\sklearn\\metrics\\_classification.py:1531: UndefinedMetricWarning: Recall is ill-defined and being set to 0.0 in labels with no true samples. Use `zero_division` parameter to control this behavior.\n",
      "  _warn_prf(average, modifier, f\"{metric.capitalize()} is\", len(result))\n"
     ]
    },
    {
     "name": "stdout",
     "output_type": "stream",
     "text": [
      "0.9846538187009279\n",
      " \n",
      "F1-score is:\n",
      "0.9855568485616848\n"
     ]
    }
   ],
   "source": [
    "decision_tree_grid_results_tr, decision_tree_grid_results_test = model(decision_tree_grid, X_train_1.toarray(), Y_train, X_test_1.toarray(), Y_test)"
   ]
  },
  {
   "cell_type": "code",
   "execution_count": 327,
   "metadata": {
    "colab": {
     "base_uri": "https://localhost:8080/"
    },
    "id": "wuT6uXGEVtAf",
    "outputId": "3a1290a6-6fc7-4b45-dfb5-966317487aa7"
   },
   "outputs": [
    {
     "name": "stdout",
     "output_type": "stream",
     "text": [
      "---------------------------\n",
      "|      Best Estimator     |\n",
      "---------------------------\n",
      "\n",
      "\tDecisionTreeClassifier(class_weight='balanced', max_depth=500,\n",
      "                       min_samples_split=5)\n",
      "\n",
      "---------------------------\n",
      "|     Best parameters     |\n",
      "---------------------------\n",
      "\tParameters of best estimator : \n",
      "\n",
      "\t{'max_depth': 500, 'min_samples_split': 5}\n",
      "\n",
      "----------------------------------\n",
      "|   No of CrossValidation sets   |\n",
      "----------------------------------\n",
      "\n",
      "\tTotal numbre of cross validation sets: 3\n",
      "\n",
      "---------------------------\n",
      "|        Best Score       |\n",
      "---------------------------\n",
      "\n",
      "\tAverage Cross Validate scores of best estimator : \n",
      "\n",
      "\t0.9826314537235309\n",
      "\n"
     ]
    }
   ],
   "source": [
    "print_grid_search_attributes(decision_tree_grid)"
   ]
  },
  {
   "cell_type": "code",
   "execution_count": 329,
   "metadata": {
    "colab": {
     "base_uri": "https://localhost:8080/"
    },
    "id": "o-tJoytSVtAf",
    "outputId": "3dd40f21-34b2-44e1-9eb5-2578b71f3bc0"
   },
   "outputs": [
    {
     "data": {
      "text/plain": [
       "['decision_tree_gs.pkl']"
      ]
     },
     "execution_count": 329,
     "metadata": {},
     "output_type": "execute_result"
    }
   ],
   "source": [
    "joblib.dump(decision_tree_grid.best_estimator_, 'decision_tree_gs.pkl')"
   ]
  },
  {
   "cell_type": "code",
   "execution_count": 331,
   "metadata": {
    "id": "qFQfsswvVtAg"
   },
   "outputs": [],
   "source": [
    "dt_gs = decision_tree_grid.best_estimator_\n",
    "y_tr_pred = dt_gs.predict(X_train_1.toarray())\n",
    "y_test_pred = dt_gs.predict(X_test_1.toarray())\n",
    "dt_tpr_fpr_train = tpr_fpr_func(Y_train, y_tr_pred)\n",
    "dt_tpr_fpr_test = tpr_fpr_func(Y_test, y_test_pred)"
   ]
  },
  {
   "cell_type": "code",
   "execution_count": 333,
   "metadata": {
    "colab": {
     "base_uri": "https://localhost:8080/"
    },
    "id": "6LWbVkq-VtAg",
    "outputId": "d40313d6-5c1d-49a8-9ca9-be42327e66fa"
   },
   "outputs": [
    {
     "data": {
      "text/plain": [
       "{'precision': 0.9982072787131018,\n",
       " 'recall': 0.9979181536997382,\n",
       " 'f1_score': 0.9979958054257096}"
      ]
     },
     "execution_count": 333,
     "metadata": {},
     "output_type": "execute_result"
    }
   ],
   "source": [
    "decision_tree_grid_results_tr"
   ]
  },
  {
   "cell_type": "code",
   "execution_count": 335,
   "metadata": {
    "colab": {
     "base_uri": "https://localhost:8080/"
    },
    "id": "IA2FBVO4VtAg",
    "outputId": "25f9dc6a-95fb-41d3-ea18-ec391bbf568b"
   },
   "outputs": [
    {
     "data": {
      "text/plain": [
       "{'tp': 0, 'tpr': 0.0, 'fp': 0, 'fpr': 0.0}"
      ]
     },
     "execution_count": 335,
     "metadata": {},
     "output_type": "execute_result"
    }
   ],
   "source": [
    "dt_tpr_fpr_train"
   ]
  },
  {
   "cell_type": "code",
   "execution_count": 337,
   "metadata": {
    "colab": {
     "base_uri": "https://localhost:8080/"
    },
    "id": "yfR8VDX1VtAg",
    "outputId": "81fc24b1-1fae-4064-9b14-740547bd44bb"
   },
   "outputs": [
    {
     "data": {
      "text/plain": [
       "{'precision': 0.9867363756111065,\n",
       " 'recall': 0.9846538187009279,\n",
       " 'f1_score': 0.9855568485616848,\n",
       " 'model': <function __main__.model(model_name, X_train, Y_train, X_test, Y_test)>}"
      ]
     },
     "execution_count": 337,
     "metadata": {},
     "output_type": "execute_result"
    }
   ],
   "source": [
    "decision_tree_grid_results_test"
   ]
  },
  {
   "cell_type": "code",
   "execution_count": 339,
   "metadata": {
    "colab": {
     "base_uri": "https://localhost:8080/"
    },
    "id": "w9MJdT6-VtAg",
    "outputId": "62a6770e-8441-40c3-e7a5-7c4872e7383c"
   },
   "outputs": [
    {
     "data": {
      "text/plain": [
       "{'tp': 0, 'tpr': 0.0, 'fp': 0, 'fpr': 0.0}"
      ]
     },
     "execution_count": 339,
     "metadata": {},
     "output_type": "execute_result"
    }
   ],
   "source": [
    "dt_tpr_fpr_test"
   ]
  },
  {
   "cell_type": "markdown",
   "metadata": {
    "id": "r2f41Z23VtAg"
   },
   "source": [
    "<h3> Model_3 :- Random Forest </h3>"
   ]
  },
  {
   "cell_type": "code",
   "execution_count": 342,
   "metadata": {
    "id": "laaYWK1KVtAg"
   },
   "outputs": [],
   "source": [
    "hyperparameter = {'max_depth':[5, 10, 100, 500, 1000], 'n_estimators': [5, 10, 50, 100, 500],\n",
    "                  'min_samples_split':[5, 10, 100, 500]}\n",
    "\n",
    "from sklearn.ensemble import RandomForestClassifier\n",
    "rf = RandomForestClassifier(criterion='gini',class_weight='balanced')\n",
    "rf_grid = GridSearchCV(rf, param_grid=hyperparameter, cv=3, verbose=1, n_jobs=-1)"
   ]
  },
  {
   "cell_type": "code",
   "execution_count": 344,
   "metadata": {
    "colab": {
     "base_uri": "https://localhost:8080/",
     "height": 931
    },
    "id": "NDxeRyE8VtAh",
    "outputId": "14bc4ece-09d5-4004-d1e5-3ed9f679e3c2"
   },
   "outputs": [
    {
     "name": "stdout",
     "output_type": "stream",
     "text": [
      "Fitting the model and prediction on train data:\n",
      "Fitting 3 folds for each of 100 candidates, totalling 300 fits\n"
     ]
    },
    {
     "name": "stderr",
     "output_type": "stream",
     "text": [
      "C:\\Users\\ncmre\\anaconda3\\Lib\\site-packages\\sklearn\\model_selection\\_split.py:776: UserWarning: The least populated class in y has only 1 members, which is less than n_splits=3.\n",
      "  warnings.warn(\n"
     ]
    },
    {
     "name": "stdout",
     "output_type": "stream",
     "text": [
      "Completed\n",
      "Time taken: 0:04:29.716166\n",
      " \n",
      "Prediction on test data:\n",
      "Completed\n",
      "Time taken: 0:00:00.305029\n",
      " \n",
      "Performance metrics:\n",
      " \n",
      "Confusion Matrix is:\n"
     ]
    },
    {
     "data": {
      "image/png": "[encoded data removed]",
      "text/plain": [
       "<Figure size 2000x1500 with 2 Axes>"
      ]
     },
     "metadata": {},
     "output_type": "display_data"
    },
    {
     "name": "stdout",
     "output_type": "stream",
     "text": [
      " \n",
      "Precision score is:\n",
      "0.9916983404177447\n",
      " \n",
      "Recall score is:\n"
     ]
    },
    {
     "name": "stderr",
     "output_type": "stream",
     "text": [
      "C:\\Users\\ncmre\\anaconda3\\Lib\\site-packages\\sklearn\\metrics\\_classification.py:1531: UndefinedMetricWarning: Precision is ill-defined and being set to 0.0 in labels with no predicted samples. Use `zero_division` parameter to control this behavior.\n",
      "  _warn_prf(average, modifier, f\"{metric.capitalize()} is\", len(result))\n",
      "C:\\Users\\ncmre\\anaconda3\\Lib\\site-packages\\sklearn\\metrics\\_classification.py:1531: UndefinedMetricWarning: Precision is ill-defined and being set to 0.0 in labels with no predicted samples. Use `zero_division` parameter to control this behavior.\n",
      "  _warn_prf(average, modifier, f\"{metric.capitalize()} is\", len(result))\n",
      "C:\\Users\\ncmre\\anaconda3\\Lib\\site-packages\\sklearn\\metrics\\_classification.py:1531: UndefinedMetricWarning: Recall is ill-defined and being set to 0.0 in labels with no true samples. Use `zero_division` parameter to control this behavior.\n",
      "  _warn_prf(average, modifier, f\"{metric.capitalize()} is\", len(result))\n"
     ]
    },
    {
     "name": "stdout",
     "output_type": "stream",
     "text": [
      "0.9916131334760885\n",
      " \n",
      "F1-score is:\n",
      "0.9914585355344703\n"
     ]
    },
    {
     "name": "stderr",
     "output_type": "stream",
     "text": [
      "C:\\Users\\ncmre\\anaconda3\\Lib\\site-packages\\sklearn\\metrics\\_classification.py:1531: UndefinedMetricWarning: Recall is ill-defined and being set to 0.0 in labels with no true samples. Use `zero_division` parameter to control this behavior.\n",
      "  _warn_prf(average, modifier, f\"{metric.capitalize()} is\", len(result))\n"
     ]
    }
   ],
   "source": [
    "rf_grid_results_tr, rf_grid_results_test = model(rf_grid, X_train_1.toarray(), Y_train, X_test_1.toarray(), Y_test)"
   ]
  },
  {
   "cell_type": "code",
   "execution_count": 346,
   "metadata": {
    "colab": {
     "base_uri": "https://localhost:8080/"
    },
    "id": "Q-zSxStTVtAh",
    "outputId": "9e975cce-98c8-416b-a703-c5829164ddf6"
   },
   "outputs": [
    {
     "name": "stdout",
     "output_type": "stream",
     "text": [
      "---------------------------\n",
      "|      Best Estimator     |\n",
      "---------------------------\n",
      "\n",
      "\tRandomForestClassifier(class_weight='balanced', max_depth=100,\n",
      "                       min_samples_split=5)\n",
      "\n",
      "---------------------------\n",
      "|     Best parameters     |\n",
      "---------------------------\n",
      "\tParameters of best estimator : \n",
      "\n",
      "\t{'max_depth': 100, 'min_samples_split': 5, 'n_estimators': 100}\n",
      "\n",
      "----------------------------------\n",
      "|   No of CrossValidation sets   |\n",
      "----------------------------------\n",
      "\n",
      "\tTotal numbre of cross validation sets: 3\n",
      "\n",
      "---------------------------\n",
      "|        Best Score       |\n",
      "---------------------------\n",
      "\n",
      "\tAverage Cross Validate scores of best estimator : \n",
      "\n",
      "\t0.9891743992386389\n",
      "\n"
     ]
    }
   ],
   "source": [
    "print_grid_search_attributes(rf_grid)"
   ]
  },
  {
   "cell_type": "code",
   "execution_count": 348,
   "metadata": {
    "id": "oBpW04WZVtAh"
   },
   "outputs": [],
   "source": [
    "rf_gs = rf_grid.best_estimator_\n",
    "y_tr_pred = rf_gs.predict(X_train_1.toarray())\n",
    "y_test_pred = rf_gs.predict(X_test_1.toarray())\n",
    "rf_tpr_fpr_train = tpr_fpr_func(Y_train, y_tr_pred)\n",
    "rf_tpr_fpr_test = tpr_fpr_func(Y_test, y_test_pred)"
   ]
  },
  {
   "cell_type": "code",
   "execution_count": 349,
   "metadata": {
    "colab": {
     "base_uri": "https://localhost:8080/"
    },
    "id": "93dgvH0ZVtAh",
    "outputId": "04297d49-fe3e-40b4-a2ee-fd387469df97"
   },
   "outputs": [
    {
     "data": {
      "text/plain": [
       "{'precision': 0.9990916179713792,\n",
       " 'recall': 0.9990482988341661,\n",
       " 'f1_score': 0.9990553745125654}"
      ]
     },
     "execution_count": 349,
     "metadata": {},
     "output_type": "execute_result"
    }
   ],
   "source": [
    "rf_grid_results_tr"
   ]
  },
  {
   "cell_type": "code",
   "execution_count": 350,
   "metadata": {
    "colab": {
     "base_uri": "https://localhost:8080/"
    },
    "id": "UQ2o5Ej6VtAh",
    "outputId": "318cd126-70e5-4653-a57b-4dd41aa1060f"
   },
   "outputs": [
    {
     "data": {
      "text/plain": [
       "{'tp': 0, 'tpr': 0.0, 'fp': 0, 'fpr': 0.0}"
      ]
     },
     "execution_count": 350,
     "metadata": {},
     "output_type": "execute_result"
    }
   ],
   "source": [
    "rf_tpr_fpr_train"
   ]
  },
  {
   "cell_type": "code",
   "execution_count": 351,
   "metadata": {
    "colab": {
     "base_uri": "https://localhost:8080/"
    },
    "id": "00JM3mPXVtAh",
    "outputId": "f8212b34-48a2-434e-d877-32ced3ce1b86"
   },
   "outputs": [
    {
     "data": {
      "text/plain": [
       "{'precision': 0.9916983404177447,\n",
       " 'recall': 0.9916131334760885,\n",
       " 'f1_score': 0.9914585355344703,\n",
       " 'model': <function __main__.model(model_name, X_train, Y_train, X_test, Y_test)>}"
      ]
     },
     "execution_count": 351,
     "metadata": {},
     "output_type": "execute_result"
    }
   ],
   "source": [
    "rf_grid_results_test"
   ]
  },
  {
   "cell_type": "code",
   "execution_count": 356,
   "metadata": {
    "colab": {
     "base_uri": "https://localhost:8080/"
    },
    "id": "Im5k3tpjVtAh",
    "outputId": "b420788b-dc78-4dac-ac37-690cd8c96368"
   },
   "outputs": [
    {
     "data": {
      "text/plain": [
       "{'tp': 0, 'tpr': 0.0, 'fp': 0, 'fpr': 0.0}"
      ]
     },
     "execution_count": 356,
     "metadata": {},
     "output_type": "execute_result"
    }
   ],
   "source": [
    "rf_tpr_fpr_test"
   ]
  },
  {
   "cell_type": "code",
   "execution_count": 358,
   "metadata": {
    "colab": {
     "base_uri": "https://localhost:8080/"
    },
    "id": "oP1d3IWQVtAi",
    "outputId": "1039dab3-3a6a-445a-8ac6-6072ac0bd175"
   },
   "outputs": [
    {
     "data": {
      "text/plain": [
       "['rf_gs.pkl']"
      ]
     },
     "execution_count": 358,
     "metadata": {},
     "output_type": "execute_result"
    }
   ],
   "source": [
    "joblib.dump(rf_grid.best_estimator_, 'rf_gs.pkl')"
   ]
  },
  {
   "cell_type": "markdown",
   "metadata": {
    "id": "CcvOa2qp4RvQ"
   },
   "source": [
    "Among all the three models Ranom forest gives abetter score"
   ]
  },
  {
   "cell_type": "code",
   "execution_count": null,
   "metadata": {},
   "outputs": [],
   "source": []
  },
  {
   "cell_type": "code",
   "execution_count": null,
   "metadata": {},
   "outputs": [],
   "source": []
  }
 ],
 "metadata": {
  "colab": {
   "provenance": []
  },
  "kernelspec": {
   "display_name": "Python [conda env:base] *",
   "language": "python",
   "name": "conda-base-py"
  },
  "language_info": {
   "codemirror_mode": {
    "name": "ipython",
    "version": 3
   },
   "file_extension": ".py",
   "mimetype": "text/x-python",
   "name": "python",
   "nbconvert_exporter": "python",
   "pygments_lexer": "ipython3",
   "version": "3.12.7"
  }
 },
 "nbformat": 4,
 "nbformat_minor": 4
}
